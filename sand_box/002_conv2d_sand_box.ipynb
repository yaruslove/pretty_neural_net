{
 "cells": [
  {
   "cell_type": "code",
   "execution_count": 1,
   "id": "84e546c7-a4dc-4135-ac72-a5097587a985",
   "metadata": {},
   "outputs": [],
   "source": [
    "import torch"
   ]
  },
  {
   "cell_type": "code",
   "execution_count": null,
   "id": "012bf236-e757-4c7f-a423-f5890169acc6",
   "metadata": {},
   "outputs": [],
   "source": [
    "# Создаем входной массив из двух изображений RGB 3*3\n",
    "input_images = torch.tensor(\n",
    "      [[[[0,  1,  2],\n",
    "         [3,  4,  5],\n",
    "         [6,  7,  8]],\n",
    "\n",
    "        [[9, 10, 11],\n",
    "         [12, 13, 14],\n",
    "         [15, 16, 17]],\n",
    "\n",
    "        [[18, 19, 20],\n",
    "         [21, 22, 23],\n",
    "         [24, 25, 26]]],\n",
    "\n",
    "\n",
    "       [[[27, 28, 29],\n",
    "         [30, 31, 32],\n",
    "         [33, 34, 35]],\n",
    "\n",
    "        [[36, 37, 38],\n",
    "         [39, 40, 41],\n",
    "         [42, 43, 44]],\n",
    "\n",
    "        [[45, 46, 47],\n",
    "         [48, 49, 50],\n",
    "         [51, 52, 53]]]])\n",
    "\n",
    "\n",
    "def get_padding2d(input_images):\n",
    "    #padded_images = # добавить нулей с четырех сторон каждого изображения\n",
    "    ## Top button\n",
    "    t=list(input_images.size())\n",
    "    t[2]=1\n",
    "    newrow=torch.zeros(t)\n",
    "    newrow=newrow.type(torch.long)\n",
    "    input_images=input_images.type(torch.long)\n",
    "    \n",
    "    input_images=torch.cat((newrow, input_images), 2)\n",
    "    input_images=torch.cat((input_images,newrow), 2)\n",
    "    input_images\n",
    "\n",
    "\n",
    "    ## Sides\n",
    "    t=list(input_images.size())\n",
    "    t[-1]=1\n",
    "    newrow=torch.zeros(t)\n",
    "    newrow=newrow.type(torch.long)\n",
    "    input_images=input_images.type(torch.long)\n",
    "    \n",
    "    input_images=torch.cat((newrow, input_images), 3)\n",
    "    input_images=torch.cat((input_images, newrow), 3)\n",
    "    padded_images=input_images\n",
    "    \n",
    "    padded_images=padded_images.type(torch.float)\n",
    "    return padded_images"
   ]
  },
  {
   "cell_type": "code",
   "execution_count": null,
   "id": "6185412a-1e1e-4646-ae46-756b7c3e7ba1",
   "metadata": {
    "scrolled": true
   },
   "outputs": [],
   "source": [
    "get_padding2d(input_images)"
   ]
  },
  {
   "cell_type": "code",
   "execution_count": null,
   "id": "317abc73-0717-4294-9435-888e347f9627",
   "metadata": {},
   "outputs": [],
   "source": [
    "torch.sum(tensor,dim)"
   ]
  },
  {
   "cell_type": "code",
   "execution_count": null,
   "id": "857610d8-304f-4695-8f27-c391130d25c5",
   "metadata": {},
   "outputs": [],
   "source": [
    "a=torch.randint(10, (2, 2))\n",
    "b=torch.randint(10, (2, 2))\n",
    "\n",
    "print(a,\"\\n\\n\",b,\"\\n\\n\", a+b, torch.sum(a+b))"
   ]
  },
  {
   "cell_type": "markdown",
   "id": "6f5a683b-f505-45db-8482-49c76c9acffd",
   "metadata": {},
   "source": [
    "## My Conv2d"
   ]
  },
  {
   "cell_type": "code",
   "execution_count": 2,
   "id": "e9a2fa35-adc8-49f5-8233-82115d543117",
   "metadata": {},
   "outputs": [],
   "source": [
    "import torch\n",
    "from abc import ABC, abstractmethod\n",
    "\n",
    "\n",
    "class ABCConv2d(ABC):\n",
    "    def __init__(self, in_channels, out_channels, kernel_size, stride):\n",
    "        self.in_channels = in_channels\n",
    "        self.out_channels = out_channels\n",
    "        self.kernel_size = kernel_size\n",
    "        self.stride = stride\n",
    "\n",
    "    def set_kernel(self, kernel):\n",
    "        self.kernel = kernel\n",
    "\n",
    "    @abstractmethod\n",
    "    def __call__(self, input_tensor):\n",
    "        pass\n"
   ]
  },
  {
   "cell_type": "markdown",
   "id": "7504ba91-edab-4b9e-aec9-14389b90ba52",
   "metadata": {},
   "source": [
    "# Default kernel tensor"
   ]
  },
  {
   "cell_type": "code",
   "execution_count": null,
   "id": "31081b19-5428-41ff-9db0-2d5a4f70914f",
   "metadata": {},
   "outputs": [],
   "source": [
    "kernel = torch.tensor(\n",
    "                  [[[[0., 1, 0],\n",
    "                     [1,  2, 1],\n",
    "                     [0,  1, 0]],\n",
    "\n",
    "                    [[1, 2, 1],\n",
    "                     [0, 3, 3],\n",
    "                     [0, 1, 10]],\n",
    "\n",
    "                    [[10, 11, 12],\n",
    "                     [13, 14, 15],\n",
    "                     [16, 17, 18]]]])\n",
    "\n",
    "kernel_w=kernel.shape[-1]\n",
    "kernel_h=kernel.shape[-2]\n",
    "print(kernel_w,kernel_h)"
   ]
  },
  {
   "cell_type": "code",
   "execution_count": null,
   "id": "c10c3eef-7e14-4bdf-81d7-5f9e3d71ae2c",
   "metadata": {
    "scrolled": true
   },
   "outputs": [],
   "source": [
    "kernel.shape"
   ]
  },
  {
   "cell_type": "code",
   "execution_count": null,
   "id": "6fd737ad-b56f-47e8-be49-609e21382335",
   "metadata": {},
   "outputs": [],
   "source": [
    "torch.squeeze(kernel,dim=0).shape"
   ]
  },
  {
   "cell_type": "code",
   "execution_count": null,
   "id": "4099b560-58a5-4a10-bcc2-c5d5943bf886",
   "metadata": {},
   "outputs": [],
   "source": [
    "a=torch.randint(10, ( 3, 2, 2))\n",
    "b=torch.randint(10, ( 3, 2, 2))\n",
    "print(f\"a {a}, \\n\\n b {b}\\n\")\n",
    "print(f\"a*b {a*b}\")"
   ]
  },
  {
   "cell_type": "markdown",
   "id": "cf7557db-8e64-4279-b50f-163c85a4b2ec",
   "metadata": {},
   "source": [
    "## My kernel tensor"
   ]
  },
  {
   "cell_type": "code",
   "execution_count": 3,
   "id": "1e116fcc-82c0-4a7a-9b03-fea1b16e3d72",
   "metadata": {},
   "outputs": [
    {
     "data": {
      "text/plain": [
       "torch.Size([4, 3, 3, 3])"
      ]
     },
     "execution_count": 3,
     "metadata": {},
     "output_type": "execute_result"
    }
   ],
   "source": [
    "my_kernel = torch.randint(10, (4, 3, 3, 3)).to(torch.float32)\n",
    "my_kernel.shape"
   ]
  },
  {
   "cell_type": "code",
   "execution_count": null,
   "id": "54f43b51-b5d6-45c6-ab15-9b0c340a2f0c",
   "metadata": {
    "scrolled": true
   },
   "outputs": [],
   "source": [
    "my_kernel"
   ]
  },
  {
   "cell_type": "markdown",
   "id": "97c9901b-1aab-4e6c-9761-a5eae14f1f98",
   "metadata": {},
   "source": [
    "## My main class"
   ]
  },
  {
   "cell_type": "code",
   "execution_count": 4,
   "id": "65c987b7-4872-4e49-992f-c5724195502d",
   "metadata": {},
   "outputs": [],
   "source": [
    "# Сверточный слой через циклы.\n",
    "\n",
    "## Ограничение работы моего сверточного слоя только при: \n",
    "'''\n",
    "1. padding = 0\n",
    "2. Размерность ядра свертки - kernel (высота ядра = ширине ядра) \n",
    "   kernel.shape[-1] = kernel.shape[-2] = kernel_height =kernel_height \n",
    "3. Нет алгортима backwards\n",
    "'''\n",
    "\n",
    "class Conv2dLoop(ABCConv2d):\n",
    "\n",
    "    def create_empty_out_img(self, input_tensor):\n",
    "        input_width = input_tensor.shape[-1]\n",
    "        input_height = input_tensor.shape[-2]\n",
    "        padding = 0\n",
    "        \n",
    "        self.output_height = (input_height + 2 * padding - (self.kernel_size - 1) - 1) // self.stride + 1\n",
    "        self.output_width = (input_width + 2 * padding - (self.kernel_size - 1) - 1) // self.stride + 1\n",
    "        \n",
    "        # Cheking batch size \n",
    "        if len(input_tensor.shape) == 3: \n",
    "            batch_size = 1\n",
    "        if len(input_tensor.shape) == 4:\n",
    "            batch_size = input_tensor.shape[-4]\n",
    "\n",
    "        out_tesor = torch.zeros([ batch_size, self.out_channels, self.output_height, self.output_width])\n",
    "        return out_tesor\n",
    "\n",
    "    def conv_one_sample(self, one_sample, filter, idx_batch, idx_filter):\n",
    "        h_start = 0\n",
    "        for _ in range(self.output_height): #h_centr\n",
    "            w_start = 0\n",
    "            for _ in range(self.output_width): # w_centr\n",
    "                # window_sliced - окно которое бежит по вертикали и горизонтали\n",
    "                window_sliced = one_sample[:,   h_start:h_start+self.kernel_size,   w_start: w_start+self.kernel_size]\n",
    "                self.out_tensor[ idx_batch, idx_filter, h_start, w_start] = torch.sum( window_sliced * self.kernel[idx_filter])\n",
    "                w_start+=self.stride\n",
    "            h_start+=self.stride\n",
    "\n",
    "\n",
    "    def __call__(self, input_tensor):\n",
    "        # Вычисление свертки с использованием циклов.\n",
    "        self.out_tensor=self.create_empty_out_img(input_tensor)\n",
    "\n",
    "        # Check tensor batch or not and unsqueeze if not\n",
    "        if len(input_tensor.shape)==4:\n",
    "            is_batch = True\n",
    "        elif len(input_tensor.shape)==3:\n",
    "            is_batch = False\n",
    "            input_tensor = input_tensor.unsqueeze(0)\n",
    "\n",
    "        # main loops\n",
    "        for idx_batch, one_sample in enumerate(input_tensor):   # itteration through batch \n",
    "            for idx_filter, filter in enumerate(self.kernel):   # itteration through kernel filters \n",
    "                self.conv_one_sample(one_sample, filter, idx_batch, idx_filter)\n",
    "\n",
    "        # squeeze if not batch\n",
    "        if is_batch:\n",
    "            self.out_tensor = torch.squeeze(self.out_tensor,dim=0)\n",
    "        \n",
    "        return self.out_tensor\n",
    "\n",
    "    "
   ]
  },
  {
   "cell_type": "code",
   "execution_count": 9,
   "id": "ed595801-5688-4142-b834-45a86058b2ae",
   "metadata": {
    "scrolled": true
   },
   "outputs": [
    {
     "data": {
      "text/plain": [
       "tensor([[[[8., 6., 5., 3., 1., 4., 1., 1., 2., 6.],\n",
       "          [0., 7., 4., 5., 5., 1., 8., 2., 1., 6.],\n",
       "          [4., 7., 3., 0., 6., 0., 6., 3., 0., 5.],\n",
       "          [5., 2., 5., 0., 1., 6., 4., 5., 5., 9.],\n",
       "          [3., 6., 0., 2., 6., 6., 9., 2., 1., 7.],\n",
       "          [0., 6., 8., 0., 8., 8., 1., 5., 0., 3.],\n",
       "          [6., 5., 4., 9., 5., 7., 0., 4., 7., 4.]],\n",
       "\n",
       "         [[7., 1., 0., 4., 7., 7., 5., 0., 6., 3.],\n",
       "          [5., 6., 0., 6., 3., 1., 2., 8., 1., 7.],\n",
       "          [9., 6., 7., 3., 4., 7., 3., 1., 4., 6.],\n",
       "          [9., 4., 8., 1., 3., 9., 8., 3., 5., 1.],\n",
       "          [6., 1., 4., 7., 5., 1., 1., 5., 1., 0.],\n",
       "          [0., 3., 9., 3., 1., 4., 2., 2., 7., 7.],\n",
       "          [9., 2., 0., 6., 9., 4., 4., 2., 5., 2.]],\n",
       "\n",
       "         [[7., 6., 5., 4., 9., 6., 5., 2., 1., 0.],\n",
       "          [4., 8., 7., 4., 8., 0., 5., 3., 5., 3.],\n",
       "          [6., 5., 7., 4., 6., 7., 1., 7., 5., 7.],\n",
       "          [4., 4., 5., 8., 2., 4., 7., 4., 4., 8.],\n",
       "          [7., 7., 6., 8., 3., 6., 7., 3., 2., 4.],\n",
       "          [8., 5., 1., 7., 9., 7., 3., 6., 0., 0.],\n",
       "          [3., 5., 9., 0., 0., 4., 8., 7., 1., 7.]]],\n",
       "\n",
       "\n",
       "        [[[5., 3., 4., 3., 5., 6., 6., 2., 2., 1.],\n",
       "          [2., 1., 6., 5., 0., 5., 4., 6., 9., 6.],\n",
       "          [1., 7., 2., 5., 6., 4., 7., 2., 7., 7.],\n",
       "          [0., 8., 9., 2., 2., 7., 5., 9., 9., 3.],\n",
       "          [1., 3., 4., 0., 0., 7., 0., 8., 3., 2.],\n",
       "          [7., 5., 9., 4., 6., 7., 4., 9., 4., 8.],\n",
       "          [9., 3., 9., 8., 4., 6., 3., 2., 2., 7.]],\n",
       "\n",
       "         [[8., 9., 1., 1., 0., 2., 9., 8., 0., 7.],\n",
       "          [2., 1., 6., 6., 1., 9., 6., 1., 8., 5.],\n",
       "          [3., 9., 3., 6., 6., 6., 0., 1., 4., 8.],\n",
       "          [7., 7., 3., 3., 4., 5., 4., 4., 6., 3.],\n",
       "          [4., 6., 7., 5., 0., 8., 4., 7., 6., 0.],\n",
       "          [5., 2., 2., 0., 9., 5., 0., 9., 9., 6.],\n",
       "          [5., 8., 9., 2., 7., 9., 1., 0., 9., 1.]],\n",
       "\n",
       "         [[1., 5., 4., 5., 2., 4., 1., 3., 8., 0.],\n",
       "          [8., 3., 8., 0., 3., 2., 6., 6., 9., 4.],\n",
       "          [4., 9., 3., 4., 4., 4., 6., 2., 0., 1.],\n",
       "          [8., 9., 7., 1., 0., 7., 9., 9., 6., 6.],\n",
       "          [7., 8., 5., 3., 4., 8., 7., 1., 1., 8.],\n",
       "          [2., 5., 6., 7., 7., 1., 2., 7., 4., 4.],\n",
       "          [6., 2., 9., 5., 0., 4., 6., 9., 1., 7.]]]])"
      ]
     },
     "execution_count": 9,
     "metadata": {},
     "output_type": "execute_result"
    }
   ],
   "source": [
    "img = torch.randint(10, (2, 3, 7, 10)).to(torch.float32)  # .to(torch.float32)\n",
    "img"
   ]
  },
  {
   "cell_type": "code",
   "execution_count": null,
   "id": "85b57e2f-ee4f-46da-851d-08bee434a8d2",
   "metadata": {
    "scrolled": true
   },
   "outputs": [],
   "source": [
    "len(img.shape)"
   ]
  },
  {
   "cell_type": "markdown",
   "id": "13368ac1-36f8-425a-942b-ae9ec93ce2a7",
   "metadata": {},
   "source": [
    "## Get empty tensor"
   ]
  },
  {
   "cell_type": "code",
   "execution_count": 10,
   "id": "02931940-792c-4f64-821f-905fcd736e32",
   "metadata": {
    "scrolled": true
   },
   "outputs": [],
   "source": [
    "in_channels = 3\n",
    "out_channels = 4\n",
    "kernel_size = 3\n",
    "stride = 1\n",
    "\n",
    "my_conv = Conv2dLoop(in_channels, out_channels, kernel_size, stride)\n",
    "# my_conv.set_kernel(kernel)\n",
    "my_conv.set_kernel(my_kernel)"
   ]
  },
  {
   "cell_type": "code",
   "execution_count": 17,
   "id": "9751bacf-d5c1-448c-ba89-2e4da1e878d8",
   "metadata": {},
   "outputs": [
    {
     "data": {
      "text/plain": [
       "torch.Size([3, 3])"
      ]
     },
     "execution_count": 17,
     "metadata": {},
     "output_type": "execute_result"
    }
   ],
   "source": [
    "kernel_hight = my_kernel.shape[-1]\n",
    "kernel_widith = my_kernel.shape[-2]\n"
   ]
  },
  {
   "cell_type": "markdown",
   "id": "f2b14570-b732-4572-bdab-059f916fb3c8",
   "metadata": {},
   "source": [
    "## Call my conv3d"
   ]
  },
  {
   "cell_type": "code",
   "execution_count": 11,
   "id": "c92a4b6e-0e1c-4a19-aa7e-eb895455dbd4",
   "metadata": {
    "scrolled": true
   },
   "outputs": [
    {
     "data": {
      "text/plain": [
       "tensor([[[[635., 478., 512., 420., 459., 454., 315., 354.],\n",
       "          [607., 483., 468., 492., 408., 489., 460., 449.],\n",
       "          [530., 500., 440., 464., 549., 476., 404., 455.],\n",
       "          [508., 420., 555., 514., 462., 549., 367., 341.],\n",
       "          [547., 484., 434., 584., 520., 464., 443., 306.]],\n",
       "\n",
       "         [[629., 561., 585., 525., 647., 454., 419., 383.],\n",
       "          [672., 588., 556., 482., 478., 600., 467., 541.],\n",
       "          [685., 593., 500., 628., 556., 516., 493., 448.],\n",
       "          [534., 600., 592., 508., 583., 610., 502., 456.],\n",
       "          [650., 538., 501., 628., 569., 556., 410., 422.]],\n",
       "\n",
       "         [[637., 519., 567., 513., 473., 450., 373., 419.],\n",
       "          [633., 504., 482., 518., 479., 552., 478., 549.],\n",
       "          [573., 500., 460., 549., 610., 503., 429., 501.],\n",
       "          [601., 486., 533., 617., 578., 563., 429., 393.],\n",
       "          [573., 575., 578., 611., 581., 488., 449., 379.]],\n",
       "\n",
       "         [[641., 615., 607., 623., 629., 406., 522., 479.],\n",
       "          [676., 654., 598., 472., 625., 553., 496., 626.],\n",
       "          [730., 626., 575., 575., 630., 593., 521., 523.],\n",
       "          [602., 591., 653., 624., 619., 637., 581., 481.],\n",
       "          [639., 623., 585., 597., 669., 640., 423., 504.]]],\n",
       "\n",
       "\n",
       "        [[[459., 533., 396., 340., 463., 490., 511., 497.],\n",
       "          [581., 502., 443., 409., 454., 562., 487., 506.],\n",
       "          [665., 568., 351., 449., 485., 652., 552., 501.],\n",
       "          [607., 562., 413., 365., 536., 557., 520., 590.],\n",
       "          [536., 606., 529., 428., 469., 512., 495., 525.]],\n",
       "\n",
       "         [[588., 600., 412., 437., 567., 512., 509., 513.],\n",
       "          [593., 622., 530., 454., 527., 581., 656., 710.],\n",
       "          [690., 655., 535., 532., 517., 622., 490., 567.],\n",
       "          [695., 607., 444., 476., 622., 637., 727., 717.],\n",
       "          [668., 642., 573., 595., 602., 608., 586., 566.]],\n",
       "\n",
       "         [[509., 544., 436., 437., 563., 513., 522., 611.],\n",
       "          [655., 614., 419., 495., 535., 580., 655., 635.],\n",
       "          [695., 569., 388., 508., 529., 659., 644., 560.],\n",
       "          [669., 548., 446., 499., 606., 658., 659., 595.],\n",
       "          [656., 629., 596., 598., 486., 577., 578., 480.]],\n",
       "\n",
       "         [[607., 564., 502., 500., 563., 563., 563., 571.],\n",
       "          [622., 669., 481., 571., 636., 667., 778., 699.],\n",
       "          [688., 690., 555., 607., 570., 654., 556., 619.],\n",
       "          [730., 650., 597., 514., 520., 846., 763., 711.],\n",
       "          [743., 624., 607., 668., 597., 718., 584., 652.]]]])"
      ]
     },
     "execution_count": 11,
     "metadata": {},
     "output_type": "execute_result"
    }
   ],
   "source": [
    "my_conv(img)"
   ]
  },
  {
   "cell_type": "markdown",
   "id": "440fcd7a-e4b1-4386-bb77-13ef2eaf89cf",
   "metadata": {},
   "source": [
    "## Torch conv2d"
   ]
  },
  {
   "cell_type": "code",
   "execution_count": null,
   "id": "418d9a8a-6550-43c6-b7a7-31bb5c3c9b57",
   "metadata": {},
   "outputs": [],
   "source": [
    "# conv2d = torch.nn.Conv2d(in_channels, out_channels, kernel_size,\n",
    "#                                       stride, padding=0, bias=False)"
   ]
  },
  {
   "cell_type": "code",
   "execution_count": 12,
   "id": "fc59fc84-1c7f-4d47-8bf1-82dab44ed93e",
   "metadata": {},
   "outputs": [
    {
     "data": {
      "text/plain": [
       "tensor([[[[635., 478., 512., 420., 459., 454., 315., 354.],\n",
       "          [607., 483., 468., 492., 408., 489., 460., 449.],\n",
       "          [530., 500., 440., 464., 549., 476., 404., 455.],\n",
       "          [508., 420., 555., 514., 462., 549., 367., 341.],\n",
       "          [547., 484., 434., 584., 520., 464., 443., 306.]],\n",
       "\n",
       "         [[629., 561., 585., 525., 647., 454., 419., 383.],\n",
       "          [672., 588., 556., 482., 478., 600., 467., 541.],\n",
       "          [685., 593., 500., 628., 556., 516., 493., 448.],\n",
       "          [534., 600., 592., 508., 583., 610., 502., 456.],\n",
       "          [650., 538., 501., 628., 569., 556., 410., 422.]],\n",
       "\n",
       "         [[637., 519., 567., 513., 473., 450., 373., 419.],\n",
       "          [633., 504., 482., 518., 479., 552., 478., 549.],\n",
       "          [573., 500., 460., 549., 610., 503., 429., 501.],\n",
       "          [601., 486., 533., 617., 578., 563., 429., 393.],\n",
       "          [573., 575., 578., 611., 581., 488., 449., 379.]],\n",
       "\n",
       "         [[641., 615., 607., 623., 629., 406., 522., 479.],\n",
       "          [676., 654., 598., 472., 625., 553., 496., 626.],\n",
       "          [730., 626., 575., 575., 630., 593., 521., 523.],\n",
       "          [602., 591., 653., 624., 619., 637., 581., 481.],\n",
       "          [639., 623., 585., 597., 669., 640., 423., 504.]]],\n",
       "\n",
       "\n",
       "        [[[459., 533., 396., 340., 463., 490., 511., 497.],\n",
       "          [581., 502., 443., 409., 454., 562., 487., 506.],\n",
       "          [665., 568., 351., 449., 485., 652., 552., 501.],\n",
       "          [607., 562., 413., 365., 536., 557., 520., 590.],\n",
       "          [536., 606., 529., 428., 469., 512., 495., 525.]],\n",
       "\n",
       "         [[588., 600., 412., 437., 567., 512., 509., 513.],\n",
       "          [593., 622., 530., 454., 527., 581., 656., 710.],\n",
       "          [690., 655., 535., 532., 517., 622., 490., 567.],\n",
       "          [695., 607., 444., 476., 622., 637., 727., 717.],\n",
       "          [668., 642., 573., 595., 602., 608., 586., 566.]],\n",
       "\n",
       "         [[509., 544., 436., 437., 563., 513., 522., 611.],\n",
       "          [655., 614., 419., 495., 535., 580., 655., 635.],\n",
       "          [695., 569., 388., 508., 529., 659., 644., 560.],\n",
       "          [669., 548., 446., 499., 606., 658., 659., 595.],\n",
       "          [656., 629., 596., 598., 486., 577., 578., 480.]],\n",
       "\n",
       "         [[607., 564., 502., 500., 563., 563., 563., 571.],\n",
       "          [622., 669., 481., 571., 636., 667., 778., 699.],\n",
       "          [688., 690., 555., 607., 570., 654., 556., 619.],\n",
       "          [730., 650., 597., 514., 520., 846., 763., 711.],\n",
       "          [743., 624., 607., 668., 597., 718., 584., 652.]]]],\n",
       "       grad_fn=<ConvolutionBackward0>)"
      ]
     },
     "execution_count": 12,
     "metadata": {},
     "output_type": "execute_result"
    }
   ],
   "source": [
    "# in_channels = 3\n",
    "# out_channels = 4\n",
    "# kernel_size = 3\n",
    "# stride = 1\n",
    "\n",
    "in_channels = 3\n",
    "out_channels = 4\n",
    "kernel_size = 3\n",
    "stride = 1\n",
    "\n",
    "\n",
    "conv2d_torch = torch.nn.Conv2d(in_channels, out_channels, kernel_size,\n",
    "                                      stride, padding=0, bias=False)\n",
    "conv2d_torch.weight.data = my_kernel # kernel #my_kernel\n",
    "\n",
    "conv2d_torch(img)"
   ]
  },
  {
   "cell_type": "code",
   "execution_count": null,
   "id": "712f94ee-5737-461a-be9c-cc09091a8be1",
   "metadata": {
    "scrolled": true
   },
   "outputs": [],
   "source": [
    "a = torch.randint(10, (2, 3, 7, 7) ).to(torch.float32)\n"
   ]
  },
  {
   "cell_type": "code",
   "execution_count": null,
   "id": "2a5b85a0-e189-4c99-8d16-38228beaea34",
   "metadata": {},
   "outputs": [],
   "source": [
    "conv2d = torch.nn.Conv2d(in_channels, out_channels, kernel_size,\n",
    "                                      stride, padding=0, bias=False)"
   ]
  },
  {
   "cell_type": "code",
   "execution_count": null,
   "id": "59dd36dc-a4c5-4870-ab8c-e85b718b21fe",
   "metadata": {},
   "outputs": [],
   "source": [
    "class Conv2d(ABCConv2d):\n",
    "    def __init__(self, in_channels, out_channels, kernel_size, stride):\n",
    "        self.conv2d = torch.nn.Conv2d(in_channels, out_channels, kernel_size,\n",
    "                                      stride, padding=0, bias=False)\n",
    "\n",
    "    def set_kernel(self, kernel):\n",
    "        self.conv2d.weight.data = kernel\n",
    "\n",
    "    def __call__(self, input_tensor):\n",
    "        return self.conv2d(input_tensor)"
   ]
  },
  {
   "cell_type": "code",
   "execution_count": null,
   "id": "de78e48e-bbbc-4080-96a7-bf0e175cb75e",
   "metadata": {},
   "outputs": [],
   "source": [
    "torch_conv2d = Conv2d(3,4,5,1)\n",
    "torch_conv2d(a).shape\n",
    "torch_conv2d(a).shape"
   ]
  },
  {
   "cell_type": "code",
   "execution_count": null,
   "id": "ad403159-ae2b-406b-b49c-b67d57a807f9",
   "metadata": {},
   "outputs": [],
   "source": [
    "a[0].shape"
   ]
  },
  {
   "cell_type": "code",
   "execution_count": null,
   "id": "41bdb110-f45d-48a1-b267-ef0400f5dcc0",
   "metadata": {},
   "outputs": [],
   "source": [
    "## Test input "
   ]
  },
  {
   "cell_type": "code",
   "execution_count": null,
   "id": "6ffe3001-047f-46e4-b710-808113ccfb9c",
   "metadata": {
    "scrolled": true
   },
   "outputs": [],
   "source": [
    "kernel = torch.tensor(\n",
    "                  [[[[0., 1, 0],\n",
    "                     [1,  2, 1],\n",
    "                     [0,  1, 0]],\n",
    "\n",
    "                    [[1, 2, 1],\n",
    "                     [0, 3, 3],\n",
    "                     [0, 1, 10]],\n",
    "\n",
    "                    [[10, 11, 12],\n",
    "                     [13, 14, 15],\n",
    "                     [16, 17, 18]]]])\n",
    "\n",
    "in_channels = kernel.shape[1]\n",
    "in_channels"
   ]
  },
  {
   "cell_type": "code",
   "execution_count": null,
   "id": "902df4a4-1e8c-498d-ae32-a0885eb912c7",
   "metadata": {},
   "outputs": [],
   "source": [
    "batch_size=2\n",
    "input_height=4\n",
    "input_width=4\n",
    "stride=2\n",
    "\n",
    "\n",
    "print(batch_size * in_channels * \\\n",
    "                            input_height * input_width)\n",
    "\n",
    "input_tensor = torch.arange(0, batch_size * in_channels *\n",
    "                            input_height * input_width,\n",
    "                            out=torch.FloatTensor()) \\\n",
    "    .reshape(batch_size, in_channels, input_height, input_width)\n",
    "print(input_tensor.shape)\n",
    "input_tensor.shape[-3]"
   ]
  },
  {
   "cell_type": "code",
   "execution_count": null,
   "id": "7496f3b2-438a-46cf-b1e8-f04905e1856c",
   "metadata": {},
   "outputs": [],
   "source": []
  },
  {
   "cell_type": "code",
   "execution_count": null,
   "id": "f9e9fcf0-061a-461c-8928-18a80610d3dd",
   "metadata": {},
   "outputs": [],
   "source": []
  },
  {
   "cell_type": "code",
   "execution_count": null,
   "id": "861cb227-8981-4e8c-a168-dc4c4073836b",
   "metadata": {},
   "outputs": [],
   "source": []
  }
 ],
 "metadata": {
  "kernelspec": {
   "display_name": "Python 3 (ipykernel)",
   "language": "python",
   "name": "python3"
  },
  "language_info": {
   "codemirror_mode": {
    "name": "ipython",
    "version": 3
   },
   "file_extension": ".py",
   "mimetype": "text/x-python",
   "name": "python",
   "nbconvert_exporter": "python",
   "pygments_lexer": "ipython3",
   "version": "3.11.3"
  }
 },
 "nbformat": 4,
 "nbformat_minor": 5
}
