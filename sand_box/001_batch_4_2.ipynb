{
 "cells": [
  {
   "cell_type": "code",
   "execution_count": null,
   "id": "19481ef6-a326-4afd-b5e7-6329f93eb5d8",
   "metadata": {},
   "outputs": [],
   "source": [
    "import torch"
   ]
  },
  {
   "cell_type": "code",
   "execution_count": 1,
   "id": "b552b14c-ee69-4d34-b17f-148a0c2be840",
   "metadata": {},
   "outputs": [],
   "source": [
    "# import copy\n",
    "import torch.nn as nn\n",
    "import torch\n",
    "\n",
    "# import copy\n",
    "import torch.nn as nn\n",
    "import torch\n",
    "\n",
    "class CustomBatchNorm1d:\n",
    "    def __init__(self, weight, bias, eps, momentum):\n",
    "        # Реализуйте в этом месте конструктор.\n",
    "        self.weight = weight\n",
    "        self.bias = bias\n",
    "        self.eps = eps\n",
    "        self.momentum = momentum\n",
    "        self.ema_mean_x = torch.zeros(1)\n",
    "        self.ema_std_x = torch.ones(1)\n",
    "        self.__valid=False\n",
    "        \n",
    "    def __call__(self, x):\n",
    "        # normed_tensor = # Напишите в этом месте нормирование входного тензора.\n",
    "        if self.__valid==True:\n",
    "            mean_x = self.ema_mean_x.clone()\n",
    "            std_x = self.ema_std_x.clone()\n",
    "        elif self.__valid==False:\n",
    "            mean_x = torch.mean(x, dim=0, keepdim=True)\n",
    "            std_x = torch.mean((x - mean_x) ** 2, dim=0, keepdim=True)\n",
    "            n=x.size()[0]\n",
    "            self.update_running_variables(mean_x,std_x,n)\n",
    "\n",
    "        stddev_x = torch.sqrt(std_x+self.eps)\n",
    "        standard_x = (x - mean_x) / stddev_x\n",
    "\n",
    "        return self.weight * standard_x + self.bias\n",
    "        \n",
    "    def eval(self):\n",
    "        self.__valid=True\n",
    "\n",
    "\n",
    "    def update_running_variables(self, mean_x, std_x, n):\n",
    "\n",
    "        # тк при train счиается смещенная дисперсия то при ema пересчитываем на НЕ смещенную\n",
    "        std_x_bias=((std_x*n)/(n-1)).clone() # НЕсмещеная дисперсия\n",
    "\n",
    "        self.ema_mean_x = self.momentum * mean_x + \\\n",
    "                          (1.0 - self.momentum) * self.ema_mean_x\n",
    "        self.ema_std_x = self.momentum * std_x_bias + \\\n",
    "                         (1.0 - self.momentum) * self.ema_std_x\n"
   ]
  },
  {
   "cell_type": "code",
   "execution_count": 2,
   "id": "2ea23a1a-0af9-46c9-a05d-fc4ab85e7a24",
   "metadata": {},
   "outputs": [],
   "source": [
    "input_size = 3\n",
    "batch_size = 5\n",
    "eps = 1e-1\n",
    "\n",
    "batch_norm = nn.BatchNorm1d(input_size, eps=eps)\n",
    "batch_norm.bias.data = torch.randn(input_size, dtype=torch.float)\n",
    "batch_norm.weight.data = torch.randn(input_size, dtype=torch.float)\n",
    "batch_norm.momentum = 0.5\n",
    "\n",
    "custom_batch_norm1d = CustomBatchNorm1d(batch_norm.weight.data,\n",
    "                                        batch_norm.bias.data, eps, batch_norm.momentum)"
   ]
  },
  {
   "cell_type": "code",
   "execution_count": 7,
   "id": "015728f1-2445-4956-a1c2-ee02342f27fc",
   "metadata": {},
   "outputs": [
    {
     "data": {
      "text/plain": [
       "0.5"
      ]
     },
     "execution_count": 7,
     "metadata": {},
     "output_type": "execute_result"
    }
   ],
   "source": [
    "weight_data=torch.tensor([ 0.2961,  1.2503, -0.1758])\n",
    "batch_norm.bias.data\n",
    "batch_norm.momentum"
   ]
  },
  {
   "cell_type": "code",
   "execution_count": 3,
   "id": "b19694f5-6770-42b6-b684-a44537d676ff",
   "metadata": {},
   "outputs": [
    {
     "data": {
      "text/plain": [
       "tensor([ 0.2961,  1.2503, -0.1758])"
      ]
     },
     "execution_count": 3,
     "metadata": {},
     "output_type": "execute_result"
    }
   ],
   "source": [
    "batch_norm.weight.data"
   ]
  },
  {
   "cell_type": "code",
   "execution_count": 3,
   "id": "6ae12877-2d93-4095-b566-d96c0fe3b16d",
   "metadata": {},
   "outputs": [
    {
     "data": {
      "text/plain": [
       "tensor([[-0.3933,  1.7163,  0.6732],\n",
       "        [ 0.4438,  0.3485,  0.5350],\n",
       "        [ 0.8313, -0.5259, -0.0975],\n",
       "        [-1.0934, -1.0620, -0.5364],\n",
       "        [-0.7662,  1.2324, -0.7653]])"
      ]
     },
     "execution_count": 3,
     "metadata": {},
     "output_type": "execute_result"
    }
   ],
   "source": [
    "torch_input = torch.randn(batch_size, input_size, dtype=torch.float)\n",
    "torch_input"
   ]
  },
  {
   "cell_type": "code",
   "execution_count": 4,
   "id": "45d9899d-1e76-497b-9625-65dfc0fffe45",
   "metadata": {},
   "outputs": [
    {
     "data": {
      "text/plain": [
       "tensor([[-0.0789, -0.0691,  0.9525],\n",
       "        [ 0.3176, -0.4142,  1.0676],\n",
       "        [ 0.5012, -0.6347,  1.5947],\n",
       "        [-0.4105, -0.7700,  1.9605],\n",
       "        [-0.2555, -0.1912,  2.1512]])"
      ]
     },
     "execution_count": 4,
     "metadata": {},
     "output_type": "execute_result"
    }
   ],
   "source": [
    "norm_output=custom_batch_norm1d(torch_input)\n",
    "norm_output"
   ]
  },
  {
   "cell_type": "code",
   "execution_count": 5,
   "id": "d7ee697e-225f-43c8-ae8c-90074e34a589",
   "metadata": {
    "scrolled": true
   },
   "outputs": [
    {
     "data": {
      "text/plain": [
       "tensor([[-0.0789, -0.0691,  0.9525],\n",
       "        [ 0.3176, -0.4142,  1.0676],\n",
       "        [ 0.5012, -0.6347,  1.5947],\n",
       "        [-0.4105, -0.7700,  1.9605],\n",
       "        [-0.2555, -0.1912,  2.1512]], grad_fn=<NativeBatchNormBackward0>)"
      ]
     },
     "execution_count": 5,
     "metadata": {},
     "output_type": "execute_result"
    }
   ],
   "source": [
    "custom_output=batch_norm(torch_input)\n",
    "custom_output"
   ]
  },
  {
   "cell_type": "markdown",
   "id": "d4e9bc8f-3699-42d8-bafe-5d2668beb7fa",
   "metadata": {},
   "source": [
    "### Eval"
   ]
  },
  {
   "cell_type": "code",
   "execution_count": 6,
   "id": "34c4d78d-3746-40a7-984e-acf715aae4ee",
   "metadata": {},
   "outputs": [],
   "source": [
    "batch_norm.eval()\n",
    "custom_batch_norm1d.eval()"
   ]
  },
  {
   "cell_type": "code",
   "execution_count": 7,
   "id": "0307fc8e-0de6-4109-97a3-5f06695f36de",
   "metadata": {},
   "outputs": [
    {
     "data": {
      "text/plain": [
       "tensor([[-0.1002, -0.0407,  1.1263],\n",
       "        [ 0.2255, -0.3727,  1.2099],\n",
       "        [ 0.3762, -0.5850,  1.5927],\n",
       "        [-0.3726, -0.7151,  1.8584],\n",
       "        [-0.2453, -0.1582,  1.9969]])"
      ]
     },
     "execution_count": 7,
     "metadata": {},
     "output_type": "execute_result"
    }
   ],
   "source": [
    "norm_output=custom_batch_norm1d(torch_input)\n",
    "norm_output"
   ]
  },
  {
   "cell_type": "code",
   "execution_count": 8,
   "id": "548e768e-4e69-4a3f-96f8-2e350aba733d",
   "metadata": {},
   "outputs": [
    {
     "data": {
      "text/plain": [
       "tensor([[-0.1002, -0.0407,  1.1263],\n",
       "        [ 0.2255, -0.3727,  1.2099],\n",
       "        [ 0.3762, -0.5850,  1.5927],\n",
       "        [-0.3726, -0.7151,  1.8584],\n",
       "        [-0.2453, -0.1582,  1.9969]], grad_fn=<NativeBatchNormBackward0>)"
      ]
     },
     "execution_count": 8,
     "metadata": {},
     "output_type": "execute_result"
    }
   ],
   "source": [
    "custom_output=batch_norm(torch_input)\n",
    "custom_output"
   ]
  },
  {
   "cell_type": "code",
   "execution_count": null,
   "id": "30ba0270-5698-4d05-87cc-f2b0aa0bec2b",
   "metadata": {},
   "outputs": [],
   "source": [
    "torch.allclose(norm_output, custom_output)"
   ]
  },
  {
   "cell_type": "code",
   "execution_count": null,
   "id": "901b4803-c7fb-409e-9486-301baf13757a",
   "metadata": {},
   "outputs": [],
   "source": []
  },
  {
   "cell_type": "code",
   "execution_count": null,
   "id": "14b7c6be-d3b9-40cf-96cd-21cc08e395f7",
   "metadata": {},
   "outputs": [],
   "source": [
    "all_correct = True\n",
    "\n",
    "for i in range(8):\n",
    "    torch_input = torch.randn(batch_size, input_size, dtype=torch.float)\n",
    "    norm_output = batch_norm(torch_input)\n",
    "    custom_output = custom_batch_norm1d(torch_input)\n",
    "    \n",
    "    all_correct &= torch.allclose(norm_output, custom_output) \\\n",
    "        and norm_output.shape == custom_output.shape\n",
    "    print(all_correct)\n"
   ]
  },
  {
   "cell_type": "code",
   "execution_count": null,
   "id": "2c1c44a0-8099-4959-a2c5-cc306ec8c6ef",
   "metadata": {},
   "outputs": [],
   "source": [
    "torch.allclose(norm_output, custom_output)"
   ]
  },
  {
   "cell_type": "code",
   "execution_count": null,
   "id": "399699d7-7108-4672-8cd7-582536b556a6",
   "metadata": {},
   "outputs": [],
   "source": [
    "batch_norm.eval()\n",
    "custom_batch_norm1d.eval()\n",
    "\n",
    "for i in range(8):\n",
    "    torch_input = torch.randn(batch_size, input_size, dtype=torch.float)\n",
    "    norm_output = batch_norm(torch_input)\n",
    "    custom_output = custom_batch_norm1d(torch_input)\n",
    "    all_correct &= torch.allclose(norm_output, custom_output) \\\n",
    "        and norm_output.shape == custom_output.shape\n",
    "    print(all_correct)\n",
    "print(all_correct)"
   ]
  },
  {
   "cell_type": "code",
   "execution_count": null,
   "id": "5869b4da-129b-42df-973a-ddcb58b243ee",
   "metadata": {},
   "outputs": [],
   "source": []
  },
  {
   "cell_type": "code",
   "execution_count": null,
   "id": "496c1486-8f59-47c7-82a9-297867086119",
   "metadata": {},
   "outputs": [],
   "source": []
  },
  {
   "cell_type": "code",
   "execution_count": null,
   "id": "941cbc51-1da5-4c9e-86e5-0b2cc998be7a",
   "metadata": {},
   "outputs": [],
   "source": []
  },
  {
   "cell_type": "code",
   "execution_count": null,
   "id": "d3a31b2c-9014-4832-9fc1-92245ee63e94",
   "metadata": {},
   "outputs": [],
   "source": [
    "def custom_batch_norm1d(x, weight, bias, eps):\n",
    "    num_examples = x.shape[0]\n",
    "    train=True\n",
    "    # if train:\n",
    "        mean_x = torch.mean(x, dim=0, keepdim=True)\n",
    "        var_x = torch.mean((x - mean_x) ** 2, dim=0, keepdim=True)\n",
    "        # update_running_variables()\n",
    "    # else:\n",
    "    #     self.mean_x = self.running_mean_x.copy()\n",
    "    #     self.var_x = self.running_var_x.copy()\n",
    "\n",
    "    var_x += eps\n",
    "    stddev_x = torch.sqrt(var_x)\n",
    "    x_minus_mean = x - mean_x\n",
    "    standard_x = x_minus_mean / stddev_x\n",
    "\n",
    "    gamma=weight#torch.ones(x.size()[1])\n",
    "    #bias= torch.zeros(x.size()[1])\n",
    "    return gamma * standard_x + bias"
   ]
  },
  {
   "cell_type": "code",
   "execution_count": null,
   "id": "b14f9c87-9baa-442b-9f37-3578c3394ac7",
   "metadata": {},
   "outputs": [],
   "source": []
  },
  {
   "cell_type": "code",
   "execution_count": null,
   "id": "cb7e3e2e-758d-4581-a408-5e0fb843d01c",
   "metadata": {},
   "outputs": [],
   "source": []
  },
  {
   "cell_type": "code",
   "execution_count": null,
   "id": "e4f608ed-6dda-4705-b1b5-5aaa1281ab75",
   "metadata": {},
   "outputs": [],
   "source": []
  }
 ],
 "metadata": {
  "kernelspec": {
   "display_name": "Python 3 (ipykernel)",
   "language": "python",
   "name": "python3"
  },
  "language_info": {
   "codemirror_mode": {
    "name": "ipython",
    "version": 3
   },
   "file_extension": ".py",
   "mimetype": "text/x-python",
   "name": "python",
   "nbconvert_exporter": "python",
   "pygments_lexer": "ipython3",
   "version": "3.11.3"
  }
 },
 "nbformat": 4,
 "nbformat_minor": 5
}
