{
 "cells": [
  {
   "cell_type": "code",
   "execution_count": 1,
   "id": "84e546c7-a4dc-4135-ac72-a5097587a985",
   "metadata": {},
   "outputs": [],
   "source": [
    "import torch"
   ]
  },
  {
   "cell_type": "code",
   "execution_count": 2,
   "id": "012bf236-e757-4c7f-a423-f5890169acc6",
   "metadata": {},
   "outputs": [],
   "source": [
    "# Создаем входной массив из двух изображений RGB 3*3\n",
    "input_images = torch.tensor(\n",
    "      [[[[0,  1,  2],\n",
    "         [3,  4,  5],\n",
    "         [6,  7,  8]],\n",
    "\n",
    "        [[9, 10, 11],\n",
    "         [12, 13, 14],\n",
    "         [15, 16, 17]],\n",
    "\n",
    "        [[18, 19, 20],\n",
    "         [21, 22, 23],\n",
    "         [24, 25, 26]]],\n",
    "\n",
    "\n",
    "       [[[27, 28, 29],\n",
    "         [30, 31, 32],\n",
    "         [33, 34, 35]],\n",
    "\n",
    "        [[36, 37, 38],\n",
    "         [39, 40, 41],\n",
    "         [42, 43, 44]],\n",
    "\n",
    "        [[45, 46, 47],\n",
    "         [48, 49, 50],\n",
    "         [51, 52, 53]]]])\n",
    "\n",
    "\n",
    "def get_padding2d(input_images):\n",
    "    #padded_images = # добавить нулей с четырех сторон каждого изображения\n",
    "    ## Top button\n",
    "    t=list(input_images.size())\n",
    "    t[2]=1\n",
    "    newrow=torch.zeros(t)\n",
    "    newrow=newrow.type(torch.long)\n",
    "    input_images=input_images.type(torch.long)\n",
    "    \n",
    "    input_images=torch.cat((newrow, input_images), 2)\n",
    "    input_images=torch.cat((input_images,newrow), 2)\n",
    "    input_images\n",
    "\n",
    "\n",
    "    ## Sides\n",
    "    t=list(input_images.size())\n",
    "    t[-1]=1\n",
    "    newrow=torch.zeros(t)\n",
    "    newrow=newrow.type(torch.long)\n",
    "    input_images=input_images.type(torch.long)\n",
    "    \n",
    "    input_images=torch.cat((newrow, input_images), 3)\n",
    "    input_images=torch.cat((input_images, newrow), 3)\n",
    "    padded_images=input_images\n",
    "    \n",
    "    padded_images=padded_images.type(torch.float)\n",
    "    return padded_images"
   ]
  },
  {
   "cell_type": "code",
   "execution_count": 3,
   "id": "6185412a-1e1e-4646-ae46-756b7c3e7ba1",
   "metadata": {},
   "outputs": [
    {
     "data": {
      "text/plain": [
       "tensor([[[[ 0.,  0.,  0.,  0.,  0.],\n",
       "          [ 0.,  0.,  1.,  2.,  0.],\n",
       "          [ 0.,  3.,  4.,  5.,  0.],\n",
       "          [ 0.,  6.,  7.,  8.,  0.],\n",
       "          [ 0.,  0.,  0.,  0.,  0.]],\n",
       "\n",
       "         [[ 0.,  0.,  0.,  0.,  0.],\n",
       "          [ 0.,  9., 10., 11.,  0.],\n",
       "          [ 0., 12., 13., 14.,  0.],\n",
       "          [ 0., 15., 16., 17.,  0.],\n",
       "          [ 0.,  0.,  0.,  0.,  0.]],\n",
       "\n",
       "         [[ 0.,  0.,  0.,  0.,  0.],\n",
       "          [ 0., 18., 19., 20.,  0.],\n",
       "          [ 0., 21., 22., 23.,  0.],\n",
       "          [ 0., 24., 25., 26.,  0.],\n",
       "          [ 0.,  0.,  0.,  0.,  0.]]],\n",
       "\n",
       "\n",
       "        [[[ 0.,  0.,  0.,  0.,  0.],\n",
       "          [ 0., 27., 28., 29.,  0.],\n",
       "          [ 0., 30., 31., 32.,  0.],\n",
       "          [ 0., 33., 34., 35.,  0.],\n",
       "          [ 0.,  0.,  0.,  0.,  0.]],\n",
       "\n",
       "         [[ 0.,  0.,  0.,  0.,  0.],\n",
       "          [ 0., 36., 37., 38.,  0.],\n",
       "          [ 0., 39., 40., 41.,  0.],\n",
       "          [ 0., 42., 43., 44.,  0.],\n",
       "          [ 0.,  0.,  0.,  0.,  0.]],\n",
       "\n",
       "         [[ 0.,  0.,  0.,  0.,  0.],\n",
       "          [ 0., 45., 46., 47.,  0.],\n",
       "          [ 0., 48., 49., 50.,  0.],\n",
       "          [ 0., 51., 52., 53.,  0.],\n",
       "          [ 0.,  0.,  0.,  0.,  0.]]]])"
      ]
     },
     "execution_count": 3,
     "metadata": {},
     "output_type": "execute_result"
    }
   ],
   "source": [
    "get_padding2d(input_images)"
   ]
  },
  {
   "cell_type": "markdown",
   "id": "6f5a683b-f505-45db-8482-49c76c9acffd",
   "metadata": {},
   "source": [
    "## My Conv2d"
   ]
  },
  {
   "cell_type": "code",
   "execution_count": 6,
   "id": "e9a2fa35-adc8-49f5-8233-82115d543117",
   "metadata": {},
   "outputs": [],
   "source": [
    "import torch\n",
    "from abc import ABC, abstractmethod\n",
    "\n",
    "\n",
    "def calc_out_shape(input_matrix_shape, out_channels, kernel_size, stride, padding):\n",
    "    batch_size, channels_count, input_height, input_width = input_matrix_shape\n",
    "    output_height = (input_height + 2 * padding - (kernel_size - 1) - 1) // stride + 1\n",
    "    output_width = (input_width + 2 * padding - (kernel_size - 1) - 1) // stride + 1\n",
    "\n",
    "    return batch_size, out_channels, output_height, output_width\n",
    "\n",
    "\n",
    "class ABCConv2d(ABC):\n",
    "    def __init__(self, in_channels, out_channels, kernel_size, stride):\n",
    "        self.in_channels = in_channels\n",
    "        self.out_channels = out_channels\n",
    "        self.kernel_size = kernel_size\n",
    "        self.stride = stride\n",
    "\n",
    "    def set_kernel(self, kernel):\n",
    "        self.kernel = kernel\n",
    "\n",
    "    @abstractmethod\n",
    "    def __call__(self, input_tensor):\n",
    "        pass\n"
   ]
  },
  {
   "cell_type": "code",
   "execution_count": 64,
   "id": "31081b19-5428-41ff-9db0-2d5a4f70914f",
   "metadata": {},
   "outputs": [],
   "source": [
    "kernel = torch.tensor(\n",
    "                  [[[[0., 1, 0],\n",
    "                     [1,  2, 1],\n",
    "                     [0,  1, 0]],\n",
    "\n",
    "                    [[1, 2, 1],\n",
    "                     [0, 3, 3],\n",
    "                     [0, 1, 10]],\n",
    "\n",
    "                    [[10, 11, 12],\n",
    "                     [13, 14, 15],\n",
    "                     [16, 17, 18]]]])"
   ]
  },
  {
   "cell_type": "code",
   "execution_count": 62,
   "id": "ac9a4a55-6558-4558-9901-e47180beadaa",
   "metadata": {},
   "outputs": [],
   "source": [
    "# Сверточный слой через циклы.\n",
    "class Conv2dLoop(ABCConv2d):\n",
    "\n",
    "    def calc_out_shape(input_matrix_shape, out_channels, kernel_size, stride, padding):\n",
    "        batch_size, channels_count, input_height, input_width = input_matrix_shape\n",
    "        output_height = (input_height + 2 * padding - (kernel_size - 1) - 1) // stride + 1\n",
    "        output_width = (input_width + 2 * padding - (kernel_size - 1) - 1) // stride + 1\n",
    "    \n",
    "        return batch_size, out_channels, output_height, output_width\n",
    "\n",
    "    def out_image_shape(self, input_height, input_width, kernel_size, stride, padding):\n",
    "        output_height = (input_height + 2 * padding - (kernel_size - 1) - 1) // stride + 1\n",
    "        output_width = (input_width + 2 * padding - (kernel_size - 1) - 1) // stride + 1\n",
    "        return output_height, output_width\n",
    "\n",
    "    def create_empty_out_img(self, input_tensor):\n",
    "        self.input_width = input_tensor.shape[-1]\n",
    "        self.input_height = input_tensor.shape[-2]\n",
    "        # in_chanels = input_tensor.shape[-3]\n",
    "        \n",
    "        padding = 0\n",
    "        output_height,output_width= self.out_image_shape(input_height,input_width, self.kernel_size, self.stride, padding)\n",
    "        \n",
    "        out_tesor = torch.zeros([self.in_channels, output_height, output_width])\n",
    "        return out_tesor\n",
    "\n",
    "    def conv_one_sample(self):\n",
    "\n",
    "        for h in range(self.input_height):\n",
    "            for w in range(self.input_width):\n",
    "            \n",
    "        \n",
    "        \n",
    "    def __call__(self, input_tensor):\n",
    "        # output_tensor = # Напишите в этом месте вычисление свертки с использованием циклов.\n",
    "\n",
    "        # create\n",
    "        self.out_tensor=self.create_empty_out_img(input_tensor)\n",
    "        self.conv_one_sample(input_tensor)\n",
    "\n",
    "        return out_tesor\n",
    "        # # проверка является ли input батчем ( dimension = 4 => batch, dimension = 3 => one_image)\n",
    "        # if len(input_tensor.shape) = 4:\n",
    "        #     for i in input_tensor.shape[0]:\n",
    "        # return output_tensor\n"
   ]
  },
  {
   "cell_type": "code",
   "execution_count": 65,
   "id": "02931940-792c-4f64-821f-905fcd736e32",
   "metadata": {},
   "outputs": [
    {
     "data": {
      "text/plain": [
       "tensor([[[0., 0., 0., 0., 0., 0., 0., 0.],\n",
       "         [0., 0., 0., 0., 0., 0., 0., 0.],\n",
       "         [0., 0., 0., 0., 0., 0., 0., 0.],\n",
       "         [0., 0., 0., 0., 0., 0., 0., 0.],\n",
       "         [0., 0., 0., 0., 0., 0., 0., 0.]],\n",
       "\n",
       "        [[0., 0., 0., 0., 0., 0., 0., 0.],\n",
       "         [0., 0., 0., 0., 0., 0., 0., 0.],\n",
       "         [0., 0., 0., 0., 0., 0., 0., 0.],\n",
       "         [0., 0., 0., 0., 0., 0., 0., 0.],\n",
       "         [0., 0., 0., 0., 0., 0., 0., 0.]],\n",
       "\n",
       "        [[0., 0., 0., 0., 0., 0., 0., 0.],\n",
       "         [0., 0., 0., 0., 0., 0., 0., 0.],\n",
       "         [0., 0., 0., 0., 0., 0., 0., 0.],\n",
       "         [0., 0., 0., 0., 0., 0., 0., 0.],\n",
       "         [0., 0., 0., 0., 0., 0., 0., 0.]]])"
      ]
     },
     "execution_count": 65,
     "metadata": {},
     "output_type": "execute_result"
    }
   ],
   "source": [
    "in_channels = 3\n",
    "out_channels = 4\n",
    "kernel_size = 3\n",
    "stride = 1\n",
    "\n",
    "\n",
    "my_conv = Conv2dLoop(in_channels, out_channels, kernel_size, stride)\n",
    "my_conv.set_kernel(kernel)\n",
    "\n",
    "img = torch.randint(10, ( 3, 7, 10)).to(torch.float32)\n",
    "my_conv(img)"
   ]
  },
  {
   "cell_type": "code",
   "execution_count": 66,
   "id": "e1fc84ab-2439-484e-8e65-358270ccdea1",
   "metadata": {
    "scrolled": true
   },
   "outputs": [
    {
     "data": {
      "text/plain": [
       "tensor([[[3., 8., 1., 4., 6., 1., 0., 6., 0., 7.],\n",
       "         [2., 0., 1., 4., 2., 5., 2., 9., 6., 6.],\n",
       "         [8., 4., 8., 6., 0., 1., 9., 5., 7., 5.],\n",
       "         [9., 3., 5., 2., 2., 1., 8., 0., 1., 6.],\n",
       "         [9., 7., 8., 7., 8., 4., 2., 1., 0., 6.],\n",
       "         [9., 5., 4., 5., 9., 7., 1., 3., 1., 2.],\n",
       "         [6., 5., 6., 0., 9., 1., 5., 2., 1., 9.]],\n",
       "\n",
       "        [[6., 2., 9., 3., 6., 8., 5., 3., 5., 3.],\n",
       "         [5., 9., 4., 3., 4., 9., 7., 0., 6., 0.],\n",
       "         [5., 0., 2., 4., 3., 9., 7., 9., 8., 2.],\n",
       "         [5., 1., 0., 1., 6., 2., 7., 4., 9., 9.],\n",
       "         [9., 4., 9., 0., 9., 7., 5., 3., 3., 7.],\n",
       "         [4., 8., 3., 9., 2., 7., 1., 3., 4., 1.],\n",
       "         [3., 3., 1., 0., 4., 2., 2., 1., 2., 8.]],\n",
       "\n",
       "        [[0., 9., 5., 7., 8., 8., 7., 6., 8., 8.],\n",
       "         [3., 6., 2., 1., 2., 2., 5., 6., 4., 4.],\n",
       "         [7., 2., 9., 9., 4., 1., 5., 6., 1., 2.],\n",
       "         [9., 3., 6., 5., 9., 8., 9., 7., 9., 0.],\n",
       "         [4., 5., 1., 0., 9., 2., 6., 1., 3., 0.],\n",
       "         [7., 7., 9., 4., 8., 8., 0., 1., 3., 8.],\n",
       "         [5., 8., 9., 8., 9., 7., 3., 1., 7., 5.]]])"
      ]
     },
     "execution_count": 66,
     "metadata": {},
     "output_type": "execute_result"
    }
   ],
   "source": [
    "img"
   ]
  },
  {
   "cell_type": "code",
   "execution_count": 67,
   "id": "1f96f442-fe1c-4512-a063-fc45fefc1b1d",
   "metadata": {},
   "outputs": [
    {
     "data": {
      "text/plain": [
       "tensor([[[3., 8., 1.],\n",
       "         [2., 0., 1.],\n",
       "         [8., 4., 8.]],\n",
       "\n",
       "        [[6., 2., 9.],\n",
       "         [5., 9., 4.],\n",
       "         [5., 0., 2.]],\n",
       "\n",
       "        [[0., 9., 5.],\n",
       "         [3., 6., 2.],\n",
       "         [7., 2., 9.]]])"
      ]
     },
     "execution_count": 67,
     "metadata": {},
     "output_type": "execute_result"
    }
   ],
   "source": [
    "img[:,0:3,0:3]"
   ]
  },
  {
   "cell_type": "code",
   "execution_count": 48,
   "id": "a5034330-6a8b-4e6c-8382-ba5bfb851b42",
   "metadata": {},
   "outputs": [
    {
     "name": "stdout",
     "output_type": "stream",
     "text": [
      "3 6\n"
     ]
    }
   ],
   "source": [
    "a = torch.randint(10, ( 3, 7, 10)).to(torch.float32)\n",
    "input_width=a.shape[-1]\n",
    "input_height=a.shape[-2]\n",
    "kernel_size =5\n",
    "stride = 1\n",
    "padding=0\n",
    "\n",
    "\n",
    "def image_shape(input_height, input_width, kernel_size, stride, padding):\n",
    "    output_height = (input_height + 2 * padding - (kernel_size - 1) - 1) // stride + 1\n",
    "    output_width = (input_width + 2 * padding - (kernel_size - 1) - 1) // stride + 1\n",
    "    return output_height, output_width\n",
    "\n",
    "output_height,output_width=image_shape(input_height, input_width,kernel_size,stride, padding)\n",
    "\n",
    "print(output_height,output_width)"
   ]
  },
  {
   "cell_type": "code",
   "execution_count": null,
   "id": "27f6e92b-a66a-4359-81a5-89941bf3356e",
   "metadata": {},
   "outputs": [],
   "source": [
    "kernel = torch.tensor(\n",
    "                  [[[[0., 1, 0],\n",
    "                     [1,  2, 1],\n",
    "                     [0,  1, 0]],\n",
    "\n",
    "                    [[1, 2, 1],\n",
    "                     [0, 3, 3],\n",
    "                     [0, 1, 10]],\n",
    "\n",
    "                    [[10, 11, 12],\n",
    "                     [13, 14, 15],\n",
    "                     [16, 17, 18]]]])\n",
    "\n",
    "out_channels = kernel.shape[0]\n",
    "in_channels  = kernel.shape[1]\n",
    "kernel_size  = kernel.shape[2]\n",
    "stride=2\n",
    "\n",
    "print(f\" \\\n",
    "out_channels {out_channels} \\n \\\n",
    "in_channels  {in_channels}  \\n \\\n",
    "kernel_size  {kernel_size}  \\n \\\n",
    "\"\n",
    ")"
   ]
  },
  {
   "cell_type": "code",
   "execution_count": null,
   "id": "6d9bb45f-3414-4a9e-bd0e-55f3e3674fc8",
   "metadata": {},
   "outputs": [],
   "source": [
    "my_conv2d = Conv2dLoop(in_channels, out_channels, kernel_size, stride)\n",
    "my_conv2d.set_kernel(kernel)"
   ]
  },
  {
   "cell_type": "code",
   "execution_count": null,
   "id": "0513edec-0a13-4cd1-a332-098735eda7a6",
   "metadata": {},
   "outputs": [],
   "source": [
    "input_tensor.shape[0]"
   ]
  },
  {
   "cell_type": "code",
   "execution_count": null,
   "id": "ad76a8c1-45a8-4249-b30c-b4ecd9f7dff9",
   "metadata": {},
   "outputs": [],
   "source": [
    "len(input_tensor.shape)"
   ]
  },
  {
   "cell_type": "code",
   "execution_count": null,
   "id": "83c8b79a-418d-4862-8aaa-028d88e319dc",
   "metadata": {},
   "outputs": [],
   "source": [
    "## Torch conv2d"
   ]
  },
  {
   "cell_type": "code",
   "execution_count": 49,
   "id": "fc59fc84-1c7f-4d47-8bf1-82dab44ed93e",
   "metadata": {},
   "outputs": [
    {
     "data": {
      "text/plain": [
       "tensor([[[0., 0., 0., 0., 0., 0., 0.],\n",
       "         [0., 0., 0., 0., 0., 0., 0.],\n",
       "         [0., 0., 0., 0., 0., 0., 0.],\n",
       "         [0., 0., 0., 0., 0., 0., 0.],\n",
       "         [0., 0., 0., 0., 0., 0., 0.],\n",
       "         [0., 0., 0., 0., 0., 0., 0.],\n",
       "         [0., 0., 0., 0., 0., 0., 0.]],\n",
       "\n",
       "        [[0., 0., 0., 0., 0., 0., 0.],\n",
       "         [0., 0., 0., 0., 0., 0., 0.],\n",
       "         [0., 0., 0., 0., 0., 0., 0.],\n",
       "         [0., 0., 0., 0., 0., 0., 0.],\n",
       "         [0., 0., 0., 0., 0., 0., 0.],\n",
       "         [0., 0., 0., 0., 0., 0., 0.],\n",
       "         [0., 0., 0., 0., 0., 0., 0.]],\n",
       "\n",
       "        [[0., 0., 0., 0., 0., 0., 0.],\n",
       "         [0., 0., 0., 0., 0., 0., 0.],\n",
       "         [0., 0., 0., 0., 0., 0., 0.],\n",
       "         [0., 0., 0., 0., 0., 0., 0.],\n",
       "         [0., 0., 0., 0., 0., 0., 0.],\n",
       "         [0., 0., 0., 0., 0., 0., 0.],\n",
       "         [0., 0., 0., 0., 0., 0., 0.]]])"
      ]
     },
     "execution_count": 49,
     "metadata": {},
     "output_type": "execute_result"
    }
   ],
   "source": []
  },
  {
   "cell_type": "code",
   "execution_count": 27,
   "id": "712f94ee-5737-461a-be9c-cc09091a8be1",
   "metadata": {
    "scrolled": true
   },
   "outputs": [
    {
     "data": {
      "text/plain": [
       "2"
      ]
     },
     "execution_count": 27,
     "metadata": {},
     "output_type": "execute_result"
    }
   ],
   "source": [
    "a = torch.randint(10, (2, 3, 7, 7)).to(torch.float32)\n",
    "a.shape[0]\n",
    "# for i in a:\n",
    "#     print(i.shape)"
   ]
  },
  {
   "cell_type": "code",
   "execution_count": null,
   "id": "2a5b85a0-e189-4c99-8d16-38228beaea34",
   "metadata": {},
   "outputs": [],
   "source": []
  },
  {
   "cell_type": "code",
   "execution_count": 45,
   "id": "59dd36dc-a4c5-4870-ab8c-e85b718b21fe",
   "metadata": {},
   "outputs": [],
   "source": [
    "class Conv2d(ABCConv2d):\n",
    "    def __init__(self, in_channels, out_channels, kernel_size, stride):\n",
    "        self.conv2d = torch.nn.Conv2d(in_channels, out_channels, kernel_size,\n",
    "                                      stride, padding=0, bias=False)\n",
    "\n",
    "    def set_kernel(self, kernel):\n",
    "        self.conv2d.weight.data = kernel\n",
    "\n",
    "    def __call__(self, input_tensor):\n",
    "        return self.conv2d(input_tensor)"
   ]
  },
  {
   "cell_type": "code",
   "execution_count": 46,
   "id": "de78e48e-bbbc-4080-96a7-bf0e175cb75e",
   "metadata": {},
   "outputs": [
    {
     "data": {
      "text/plain": [
       "torch.Size([4, 3, 6])"
      ]
     },
     "execution_count": 46,
     "metadata": {},
     "output_type": "execute_result"
    }
   ],
   "source": [
    "torch_conv2d = Conv2d(3,4,5,1)\n",
    "torch_conv2d(a).shape\n",
    "torch_conv2d(a).shape"
   ]
  },
  {
   "cell_type": "code",
   "execution_count": 29,
   "id": "ad403159-ae2b-406b-b49c-b67d57a807f9",
   "metadata": {},
   "outputs": [
    {
     "data": {
      "text/plain": [
       "torch.Size([3, 7, 7])"
      ]
     },
     "execution_count": 29,
     "metadata": {},
     "output_type": "execute_result"
    }
   ],
   "source": [
    "a[0].shape"
   ]
  },
  {
   "cell_type": "code",
   "execution_count": 30,
   "id": "9b0c0998-9854-4abc-a45c-84e5ea30d0f0",
   "metadata": {},
   "outputs": [
    {
     "data": {
      "text/plain": [
       "(2, 4, 3, 3)"
      ]
     },
     "execution_count": 30,
     "metadata": {},
     "output_type": "execute_result"
    }
   ],
   "source": [
    "def calc_out_shape(input_matrix_shape, out_channels, kernel_size, stride, padding):\n",
    "    batch_size, channels_count, input_height, input_width = input_matrix_shape\n",
    "    output_height = (input_height + 2 * padding - (kernel_size - 1) - 1) // stride + 1\n",
    "    output_width = (input_width + 2 * padding - (kernel_size - 1) - 1) // stride + 1\n",
    "\n",
    "    return batch_size, out_channels, output_height, output_width\n",
    "\n",
    "calc_out_shape(a.shape, 4, 5, 1, 0)"
   ]
  },
  {
   "cell_type": "code",
   "execution_count": null,
   "id": "41bdb110-f45d-48a1-b267-ef0400f5dcc0",
   "metadata": {},
   "outputs": [],
   "source": [
    "## Test input "
   ]
  },
  {
   "cell_type": "code",
   "execution_count": 53,
   "id": "6ffe3001-047f-46e4-b710-808113ccfb9c",
   "metadata": {
    "scrolled": true
   },
   "outputs": [
    {
     "data": {
      "text/plain": [
       "3"
      ]
     },
     "execution_count": 53,
     "metadata": {},
     "output_type": "execute_result"
    }
   ],
   "source": [
    "kernel = torch.tensor(\n",
    "                  [[[[0., 1, 0],\n",
    "                     [1,  2, 1],\n",
    "                     [0,  1, 0]],\n",
    "\n",
    "                    [[1, 2, 1],\n",
    "                     [0, 3, 3],\n",
    "                     [0, 1, 10]],\n",
    "\n",
    "                    [[10, 11, 12],\n",
    "                     [13, 14, 15],\n",
    "                     [16, 17, 18]]]])\n",
    "\n",
    "in_channels = kernel.shape[1]\n",
    "in_channels"
   ]
  },
  {
   "cell_type": "code",
   "execution_count": 57,
   "id": "902df4a4-1e8c-498d-ae32-a0885eb912c7",
   "metadata": {},
   "outputs": [
    {
     "name": "stdout",
     "output_type": "stream",
     "text": [
      "96\n",
      "torch.Size([2, 3, 4, 4])\n"
     ]
    },
    {
     "data": {
      "text/plain": [
       "3"
      ]
     },
     "execution_count": 57,
     "metadata": {},
     "output_type": "execute_result"
    }
   ],
   "source": [
    "batch_size=2\n",
    "input_height=4\n",
    "input_width=4\n",
    "stride=2\n",
    "\n",
    "\n",
    "print(batch_size * in_channels * \\\n",
    "                            input_height * input_width)\n",
    "\n",
    "input_tensor = torch.arange(0, batch_size * in_channels *\n",
    "                            input_height * input_width,\n",
    "                            out=torch.FloatTensor()) \\\n",
    "    .reshape(batch_size, in_channels, input_height, input_width)\n",
    "print(input_tensor.shape)\n",
    "input_tensor.shape[-3]"
   ]
  },
  {
   "cell_type": "code",
   "execution_count": null,
   "id": "7496f3b2-438a-46cf-b1e8-f04905e1856c",
   "metadata": {},
   "outputs": [],
   "source": []
  }
 ],
 "metadata": {
  "kernelspec": {
   "display_name": "Python 3 (ipykernel)",
   "language": "python",
   "name": "python3"
  },
  "language_info": {
   "codemirror_mode": {
    "name": "ipython",
    "version": 3
   },
   "file_extension": ".py",
   "mimetype": "text/x-python",
   "name": "python",
   "nbconvert_exporter": "python",
   "pygments_lexer": "ipython3",
   "version": "3.11.3"
  }
 },
 "nbformat": 4,
 "nbformat_minor": 5
}
