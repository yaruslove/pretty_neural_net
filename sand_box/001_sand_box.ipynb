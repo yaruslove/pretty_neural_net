{
 "cells": [
  {
   "cell_type": "code",
   "execution_count": 1,
   "id": "84e546c7-a4dc-4135-ac72-a5097587a985",
   "metadata": {},
   "outputs": [],
   "source": [
    "import torch"
   ]
  },
  {
   "cell_type": "code",
   "execution_count": null,
   "id": "012bf236-e757-4c7f-a423-f5890169acc6",
   "metadata": {},
   "outputs": [],
   "source": [
    "# Создаем входной массив из двух изображений RGB 3*3\n",
    "input_images = torch.tensor(\n",
    "      [[[[0,  1,  2],\n",
    "         [3,  4,  5],\n",
    "         [6,  7,  8]],\n",
    "\n",
    "        [[9, 10, 11],\n",
    "         [12, 13, 14],\n",
    "         [15, 16, 17]],\n",
    "\n",
    "        [[18, 19, 20],\n",
    "         [21, 22, 23],\n",
    "         [24, 25, 26]]],\n",
    "\n",
    "\n",
    "       [[[27, 28, 29],\n",
    "         [30, 31, 32],\n",
    "         [33, 34, 35]],\n",
    "\n",
    "        [[36, 37, 38],\n",
    "         [39, 40, 41],\n",
    "         [42, 43, 44]],\n",
    "\n",
    "        [[45, 46, 47],\n",
    "         [48, 49, 50],\n",
    "         [51, 52, 53]]]])\n",
    "\n",
    "\n",
    "def get_padding2d(input_images):\n",
    "    #padded_images = # добавить нулей с четырех сторон каждого изображения\n",
    "    ## Top button\n",
    "    t=list(input_images.size())\n",
    "    t[2]=1\n",
    "    newrow=torch.zeros(t)\n",
    "    newrow=newrow.type(torch.long)\n",
    "    input_images=input_images.type(torch.long)\n",
    "    \n",
    "    input_images=torch.cat((newrow, input_images), 2)\n",
    "    input_images=torch.cat((input_images,newrow), 2)\n",
    "    input_images\n",
    "\n",
    "\n",
    "    ## Sides\n",
    "    t=list(input_images.size())\n",
    "    t[-1]=1\n",
    "    newrow=torch.zeros(t)\n",
    "    newrow=newrow.type(torch.long)\n",
    "    input_images=input_images.type(torch.long)\n",
    "    \n",
    "    input_images=torch.cat((newrow, input_images), 3)\n",
    "    input_images=torch.cat((input_images, newrow), 3)\n",
    "    padded_images=input_images\n",
    "    \n",
    "    padded_images=padded_images.type(torch.float)\n",
    "    return padded_images"
   ]
  },
  {
   "cell_type": "code",
   "execution_count": null,
   "id": "6185412a-1e1e-4646-ae46-756b7c3e7ba1",
   "metadata": {
    "scrolled": true
   },
   "outputs": [],
   "source": [
    "get_padding2d(input_images)"
   ]
  },
  {
   "cell_type": "code",
   "execution_count": null,
   "id": "317abc73-0717-4294-9435-888e347f9627",
   "metadata": {},
   "outputs": [],
   "source": [
    "torch.sum(tensor,dim)"
   ]
  },
  {
   "cell_type": "code",
   "execution_count": null,
   "id": "857610d8-304f-4695-8f27-c391130d25c5",
   "metadata": {},
   "outputs": [],
   "source": [
    "a=torch.randint(10, (2, 2))\n",
    "b=torch.randint(10, (2, 2))\n",
    "\n",
    "print(a,\"\\n\\n\",b,\"\\n\\n\", a+b, torch.sum(a+b))"
   ]
  },
  {
   "cell_type": "markdown",
   "id": "6f5a683b-f505-45db-8482-49c76c9acffd",
   "metadata": {},
   "source": [
    "## My Conv2d"
   ]
  },
  {
   "cell_type": "code",
   "execution_count": 2,
   "id": "e9a2fa35-adc8-49f5-8233-82115d543117",
   "metadata": {},
   "outputs": [],
   "source": [
    "import torch\n",
    "from abc import ABC, abstractmethod\n",
    "\n",
    "\n",
    "def calc_out_shape(input_matrix_shape, out_channels, kernel_size, stride, padding):\n",
    "    batch_size, channels_count, input_height, input_width = input_matrix_shape\n",
    "    output_height = (input_height + 2 * padding - (kernel_size - 1) - 1) // stride + 1\n",
    "    output_width = (input_width + 2 * padding - (kernel_size - 1) - 1) // stride + 1\n",
    "\n",
    "    return batch_size, out_channels, output_height, output_width\n",
    "\n",
    "\n",
    "class ABCConv2d(ABC):\n",
    "    def __init__(self, in_channels, out_channels, kernel_size, stride):\n",
    "        self.in_channels = in_channels\n",
    "        self.out_channels = out_channels\n",
    "        self.kernel_size = kernel_size\n",
    "        self.stride = stride\n",
    "\n",
    "    def set_kernel(self, kernel):\n",
    "        self.kernel = kernel\n",
    "\n",
    "    @abstractmethod\n",
    "    def __call__(self, input_tensor):\n",
    "        pass\n"
   ]
  },
  {
   "cell_type": "code",
   "execution_count": null,
   "id": "b3d585c5-8173-49a1-9361-ad83981f8a12",
   "metadata": {},
   "outputs": [],
   "source": [
    "# Default tensor"
   ]
  },
  {
   "cell_type": "code",
   "execution_count": 37,
   "id": "31081b19-5428-41ff-9db0-2d5a4f70914f",
   "metadata": {},
   "outputs": [
    {
     "name": "stdout",
     "output_type": "stream",
     "text": [
      "3 3\n"
     ]
    }
   ],
   "source": [
    "kernel = torch.tensor(\n",
    "                  [[[[0., 1, 0],\n",
    "                     [1,  2, 1],\n",
    "                     [0,  1, 0]],\n",
    "\n",
    "                    [[1, 2, 1],\n",
    "                     [0, 3, 3],\n",
    "                     [0, 1, 10]],\n",
    "\n",
    "                    [[10, 11, 12],\n",
    "                     [13, 14, 15],\n",
    "                     [16, 17, 18]]]])\n",
    "\n",
    "kernel_w=kernel.shape[-1]\n",
    "kernel_h=kernel.shape[-2]\n",
    "print(kernel_w,kernel_h)"
   ]
  },
  {
   "cell_type": "code",
   "execution_count": 24,
   "id": "c10c3eef-7e14-4bdf-81d7-5f9e3d71ae2c",
   "metadata": {
    "scrolled": true
   },
   "outputs": [
    {
     "data": {
      "text/plain": [
       "torch.Size([1, 3, 3, 3])"
      ]
     },
     "execution_count": 24,
     "metadata": {},
     "output_type": "execute_result"
    }
   ],
   "source": [
    "kernel.shape"
   ]
  },
  {
   "cell_type": "code",
   "execution_count": 39,
   "id": "6fd737ad-b56f-47e8-be49-609e21382335",
   "metadata": {},
   "outputs": [
    {
     "data": {
      "text/plain": [
       "torch.Size([3, 3, 3])"
      ]
     },
     "execution_count": 39,
     "metadata": {},
     "output_type": "execute_result"
    }
   ],
   "source": [
    "torch.squeeze(kernel,dim=0).shape"
   ]
  },
  {
   "cell_type": "code",
   "execution_count": null,
   "id": "7d2b1783-3e8f-430a-a4e8-54a06582933f",
   "metadata": {},
   "outputs": [],
   "source": [
    "# My tensor"
   ]
  },
  {
   "cell_type": "code",
   "execution_count": 30,
   "id": "1e116fcc-82c0-4a7a-9b03-fea1b16e3d72",
   "metadata": {},
   "outputs": [
    {
     "data": {
      "text/plain": [
       "torch.Size([4, 3, 3, 3])"
      ]
     },
     "execution_count": 30,
     "metadata": {},
     "output_type": "execute_result"
    }
   ],
   "source": [
    "my_kernel = torch.randint(10, (4, 3,3,3))\n",
    "my_kernel.shape"
   ]
  },
  {
   "cell_type": "code",
   "execution_count": 23,
   "id": "54f43b51-b5d6-45c6-ab15-9b0c340a2f0c",
   "metadata": {},
   "outputs": [
    {
     "data": {
      "text/plain": [
       "torch.Size([1, 3, 3, 3])"
      ]
     },
     "execution_count": 23,
     "metadata": {},
     "output_type": "execute_result"
    }
   ],
   "source": [
    "kernel.shape"
   ]
  },
  {
   "cell_type": "code",
   "execution_count": null,
   "id": "05afbb9e-9280-4f61-9edd-e3e8154082b1",
   "metadata": {},
   "outputs": [],
   "source": [
    "for i in kernel:\n",
    "    print(i)"
   ]
  },
  {
   "cell_type": "code",
   "execution_count": 40,
   "id": "ac9a4a55-6558-4558-9901-e47180beadaa",
   "metadata": {},
   "outputs": [],
   "source": [
    "# Сверточный слой через циклы.\n",
    "class Conv2dLoop(ABCConv2d):\n",
    "\n",
    "    def calc_out_shape(input_matrix_shape, out_channels, kernel_size, stride, padding):\n",
    "        batch_size, channels_count, input_height, input_width = input_matrix_shape\n",
    "        output_height = (input_height + 2 * padding - (kernel_size - 1) - 1) // stride + 1\n",
    "        output_width = (input_width + 2 * padding - (kernel_size - 1) - 1) // stride + 1\n",
    "    \n",
    "        return batch_size, out_channels, output_height, output_width\n",
    "\n",
    "    def out_image_shape(self, input_height, input_width, kernel_size, stride, padding):\n",
    "        output_height = (input_height + 2 * padding - (kernel_size - 1) - 1) // stride + 1\n",
    "        output_width = (input_width + 2 * padding - (kernel_size - 1) - 1) // stride + 1\n",
    "        return output_height, output_width\n",
    "\n",
    "    def create_empty_out_img(self, input_tensor):\n",
    "        self.input_width = input_tensor.shape[-1]\n",
    "        self.input_height = input_tensor.shape[-2]\n",
    "        # in_chanels = input_tensor.shape[-3]\n",
    "        \n",
    "        padding = 0\n",
    "        self.output_height, self.output_width = self.out_image_shape(self.input_height, self.input_width, self.kernel_size, self.stride, padding)\n",
    "\n",
    "        # Cheking batch size \n",
    "        if len(input_tensor.shape) == 3: \n",
    "            batch_size = 1\n",
    "        if len(input_tensor.shape) == 4:\n",
    "            batch_size = input_tensor.shape[-4]\n",
    "            \n",
    "        out_tesor = torch.zeros([ batch_size, self.out_channels, self.output_height, self.output_width])\n",
    "        return out_tesor\n",
    "\n",
    "    def conv_one_sample(self, one_sample, filter, idx_batch, idx_filter):\n",
    "        h_start = 0\n",
    "        for _ in range(self.output_height): #h_centr\n",
    "            w_start = 0\n",
    "            for _ in range(self.output_width): # w_centr\n",
    "                # print(f\"self.kernel_size {self.kernel_size}\")\n",
    "                window_sliced = one_sample[:,   h_start:h_start+self.kernel_size,   w_start: w_start+self.kernel_size]\n",
    "                # print(f\"window_sliced {window_sliced}\")\n",
    "                # print(f\"kernel[idx_filter] {self.kernel[idx_filter]}\")\n",
    "                # print(f\"wind+kernel { window_sliced + self.kernel[idx_filter]}\")\n",
    "                self.out_tensor[ idx_batch, idx_filter, h_start, w_start] = torch.sum( window_sliced + self.kernel[idx_filter])\n",
    "                # print(f\"self.out_tensor {self.out_tensor}\")\n",
    "                w_start+=self.stride\n",
    "                # print(f\"\\n\\n\")\n",
    "            h_start+=self.stride\n",
    "            \n",
    "        \n",
    "        \n",
    "    def __call__(self, input_tensor):\n",
    "        # output_tensor = # Напишите в этом месте вычисление свертки с использованием циклов.\n",
    "\n",
    "        # create out_tensor\n",
    "        self.out_tensor=self.create_empty_out_img(input_tensor)\n",
    "        print(f\"self.out_tensor {self.out_tensor.shape}\")\n",
    "\n",
    "        \n",
    "        # Check tensor batch or not and unsqueeze if not\n",
    "        if len(input_tensor.shape)==4:\n",
    "            is_batch = True\n",
    "        elif len(input_tensor.shape)==3:\n",
    "            is_batch = False\n",
    "            input_tensor = input_tensor.unsqueeze(0)\n",
    "\n",
    "        # # Check tensor batch or not and unsqueeze if not\n",
    "        # if len(input_tensor.shape)==4:\n",
    "        #     is_batch = True\n",
    "        # elif len(input_tensor.shape)==3:\n",
    "        #     is_batch = False\n",
    "        #     input_tensor = input_tensor.unsqueeze(0)\n",
    "\n",
    "        # main loops\n",
    "        for idx_batch, one_sample in enumerate(input_tensor): # itteration through batch \n",
    "            for idx_filter, filter in enumerate(self.kernel):   # itteration through kernel filters \n",
    "                self.conv_one_sample(one_sample, filter, idx_batch, idx_filter)\n",
    "\n",
    "        # squeeze if not batch\n",
    "        if is_batch:\n",
    "            self.out_tensor = torch.squeeze(self.out_tensor,dim=0)\n",
    "        \n",
    "        return self.out_tensor\n",
    "\n",
    "    "
   ]
  },
  {
   "cell_type": "code",
   "execution_count": 42,
   "id": "ed595801-5688-4142-b834-45a86058b2ae",
   "metadata": {
    "scrolled": true
   },
   "outputs": [
    {
     "data": {
      "text/plain": [
       "tensor([[[[1., 3., 4., 5.],\n",
       "          [6., 1., 4., 3.],\n",
       "          [6., 0., 4., 2.]],\n",
       "\n",
       "         [[2., 6., 5., 6.],\n",
       "          [8., 4., 4., 1.],\n",
       "          [1., 7., 3., 2.]],\n",
       "\n",
       "         [[5., 3., 1., 7.],\n",
       "          [8., 6., 6., 6.],\n",
       "          [6., 3., 9., 7.]]],\n",
       "\n",
       "\n",
       "        [[[8., 5., 6., 7.],\n",
       "          [1., 9., 2., 7.],\n",
       "          [3., 5., 4., 6.]],\n",
       "\n",
       "         [[9., 4., 7., 0.],\n",
       "          [5., 5., 5., 8.],\n",
       "          [6., 5., 4., 6.]],\n",
       "\n",
       "         [[8., 4., 7., 5.],\n",
       "          [0., 4., 4., 9.],\n",
       "          [9., 5., 4., 8.]]]])"
      ]
     },
     "execution_count": 42,
     "metadata": {},
     "output_type": "execute_result"
    }
   ],
   "source": [
    "img = torch.randint(10, (2, 3, 3, 4)).to(torch.float32)\n",
    "img"
   ]
  },
  {
   "cell_type": "code",
   "execution_count": 8,
   "id": "85b57e2f-ee4f-46da-851d-08bee434a8d2",
   "metadata": {
    "scrolled": true
   },
   "outputs": [
    {
     "data": {
      "text/plain": [
       "4"
      ]
     },
     "execution_count": 8,
     "metadata": {},
     "output_type": "execute_result"
    }
   ],
   "source": [
    "len(img.shape)"
   ]
  },
  {
   "cell_type": "code",
   "execution_count": 9,
   "id": "cf0e01b0-5251-40ca-97a4-cfeef9cfa6ba",
   "metadata": {},
   "outputs": [
    {
     "data": {
      "text/plain": [
       "torch.Size([8, 3, 4, 5])"
      ]
     },
     "execution_count": 9,
     "metadata": {},
     "output_type": "execute_result"
    }
   ],
   "source": [
    "img.shape"
   ]
  },
  {
   "cell_type": "markdown",
   "id": "13368ac1-36f8-425a-942b-ae9ec93ce2a7",
   "metadata": {},
   "source": [
    "## Get empty tensor"
   ]
  },
  {
   "cell_type": "code",
   "execution_count": 10,
   "id": "0ec65e68-5927-48d7-9992-da8e130f366e",
   "metadata": {},
   "outputs": [
    {
     "data": {
      "text/plain": [
       "tensor([[[[ 0.,  1.,  0.],\n",
       "          [ 1.,  2.,  1.],\n",
       "          [ 0.,  1.,  0.]],\n",
       "\n",
       "         [[ 1.,  2.,  1.],\n",
       "          [ 0.,  3.,  3.],\n",
       "          [ 0.,  1., 10.]],\n",
       "\n",
       "         [[10., 11., 12.],\n",
       "          [13., 14., 15.],\n",
       "          [16., 17., 18.]]]])"
      ]
     },
     "execution_count": 10,
     "metadata": {},
     "output_type": "execute_result"
    }
   ],
   "source": [
    "kernel"
   ]
  },
  {
   "cell_type": "code",
   "execution_count": 35,
   "id": "02931940-792c-4f64-821f-905fcd736e32",
   "metadata": {
    "scrolled": true
   },
   "outputs": [],
   "source": [
    "in_channels = 3\n",
    "out_channels = 4\n",
    "kernel_size = 3\n",
    "stride = 1\n",
    "\n",
    "\n",
    "my_conv = Conv2dLoop(in_channels, out_channels, kernel_size, stride)\n",
    "# my_conv.set_kernel(kernel)\n",
    "my_conv.set_kernel(my_kernel)\n",
    "\n",
    "# my_conv.create_empty_out_img(img)\n",
    "\n",
    "# img = torch.randint(10, ( 3, 7, 10)).to(torch.float32)\n",
    "# my_conv(img)"
   ]
  },
  {
   "cell_type": "code",
   "execution_count": null,
   "id": "52cda211-d619-471f-badf-fd7863de0411",
   "metadata": {},
   "outputs": [],
   "source": [
    "img"
   ]
  },
  {
   "cell_type": "code",
   "execution_count": null,
   "id": "1293e346-488e-4f52-9007-c0b8126026ab",
   "metadata": {},
   "outputs": [],
   "source": [
    "my_conv.kernel[0]"
   ]
  },
  {
   "cell_type": "markdown",
   "id": "f2b14570-b732-4572-bdab-059f916fb3c8",
   "metadata": {},
   "source": [
    "## Call my conv3d"
   ]
  },
  {
   "cell_type": "code",
   "execution_count": 36,
   "id": "c92a4b6e-0e1c-4a19-aa7e-eb895455dbd4",
   "metadata": {
    "scrolled": true
   },
   "outputs": [
    {
     "name": "stdout",
     "output_type": "stream",
     "text": [
      "self.out_tensor torch.Size([2, 4, 2, 3])\n"
     ]
    },
    {
     "data": {
      "text/plain": [
       "tensor([[[[235., 246., 242.],\n",
       "          [266., 265., 247.]],\n",
       "\n",
       "         [[223., 234., 230.],\n",
       "          [254., 253., 235.]],\n",
       "\n",
       "         [[215., 226., 222.],\n",
       "          [246., 245., 227.]],\n",
       "\n",
       "         [[221., 232., 228.],\n",
       "          [252., 251., 233.]]],\n",
       "\n",
       "\n",
       "        [[[270., 272., 287.],\n",
       "          [258., 259., 272.]],\n",
       "\n",
       "         [[258., 260., 275.],\n",
       "          [246., 247., 260.]],\n",
       "\n",
       "         [[250., 252., 267.],\n",
       "          [238., 239., 252.]],\n",
       "\n",
       "         [[256., 258., 273.],\n",
       "          [244., 245., 258.]]]])"
      ]
     },
     "execution_count": 36,
     "metadata": {},
     "output_type": "execute_result"
    }
   ],
   "source": [
    "my_conv(img)"
   ]
  },
  {
   "cell_type": "code",
   "execution_count": null,
   "id": "e1fc84ab-2439-484e-8e65-358270ccdea1",
   "metadata": {
    "scrolled": true
   },
   "outputs": [],
   "source": [
    "img"
   ]
  },
  {
   "cell_type": "code",
   "execution_count": null,
   "id": "1f96f442-fe1c-4512-a063-fc45fefc1b1d",
   "metadata": {},
   "outputs": [],
   "source": [
    "img[:,0:3,0:3]"
   ]
  },
  {
   "cell_type": "code",
   "execution_count": null,
   "id": "a5034330-6a8b-4e6c-8382-ba5bfb851b42",
   "metadata": {},
   "outputs": [],
   "source": [
    "a = torch.randint(10, ( 3, 7, 10)).to(torch.float32)\n",
    "input_width=a.shape[-1]\n",
    "input_height=a.shape[-2]\n",
    "kernel_size =5\n",
    "stride = 1\n",
    "padding=0\n",
    "\n",
    "\n",
    "def image_shape(input_height, input_width, kernel_size, stride, padding):\n",
    "    output_height = (input_height + 2 * padding - (kernel_size - 1) - 1) // stride + 1\n",
    "    output_width = (input_width + 2 * padding - (kernel_size - 1) - 1) // stride + 1\n",
    "    return output_height, output_width\n",
    "\n",
    "output_height,output_width=image_shape(input_height, input_width,kernel_size,stride, padding)\n",
    "\n",
    "print(output_height,output_width)"
   ]
  },
  {
   "cell_type": "code",
   "execution_count": null,
   "id": "27f6e92b-a66a-4359-81a5-89941bf3356e",
   "metadata": {},
   "outputs": [],
   "source": [
    "kernel = torch.tensor(\n",
    "                  [[[[0., 1, 0],\n",
    "                     [1,  2, 1],\n",
    "                     [0,  1, 0]],\n",
    "\n",
    "                    [[1, 2, 1],\n",
    "                     [0, 3, 3],\n",
    "                     [0, 1, 10]],\n",
    "\n",
    "                    [[10, 11, 12],\n",
    "                     [13, 14, 15],\n",
    "                     [16, 17, 18]]]])\n",
    "\n",
    "out_channels = kernel.shape[0]\n",
    "in_channels  = kernel.shape[1]\n",
    "kernel_size  = kernel.shape[2]\n",
    "stride=2\n",
    "\n",
    "print(f\" \\\n",
    "out_channels {out_channels} \\n \\\n",
    "in_channels  {in_channels}  \\n \\\n",
    "kernel_size  {kernel_size}  \\n \\\n",
    "\"\n",
    ")"
   ]
  },
  {
   "cell_type": "code",
   "execution_count": null,
   "id": "6d9bb45f-3414-4a9e-bd0e-55f3e3674fc8",
   "metadata": {},
   "outputs": [],
   "source": [
    "my_conv2d = Conv2dLoop(in_channels, out_channels, kernel_size, stride)\n",
    "my_conv2d.set_kernel(kernel)"
   ]
  },
  {
   "cell_type": "code",
   "execution_count": null,
   "id": "0513edec-0a13-4cd1-a332-098735eda7a6",
   "metadata": {},
   "outputs": [],
   "source": [
    "input_tensor.shape[0]"
   ]
  },
  {
   "cell_type": "code",
   "execution_count": null,
   "id": "ad76a8c1-45a8-4249-b30c-b4ecd9f7dff9",
   "metadata": {},
   "outputs": [],
   "source": [
    "len(input_tensor.shape)"
   ]
  },
  {
   "cell_type": "markdown",
   "id": "440fcd7a-e4b1-4386-bb77-13ef2eaf89cf",
   "metadata": {},
   "source": [
    "## Torch conv2d"
   ]
  },
  {
   "cell_type": "code",
   "execution_count": null,
   "id": "fc59fc84-1c7f-4d47-8bf1-82dab44ed93e",
   "metadata": {},
   "outputs": [],
   "source": [
    "# in_channels = 3\n",
    "# out_channels = 4\n",
    "# kernel_size = 3\n",
    "# stride = 1\n",
    "\n",
    "in_channels = 3\n",
    "out_channels = 4\n",
    "kernel_size = 3\n",
    "stride = 1\n",
    "\n",
    "conv2d_torch = torch.nn.Conv2d(in_channels, out_channels, kernel_size,\n",
    "                                      stride, padding=0, bias=False)\n",
    "\n",
    "conv2d_torch(img).shape"
   ]
  },
  {
   "cell_type": "code",
   "execution_count": null,
   "id": "712f94ee-5737-461a-be9c-cc09091a8be1",
   "metadata": {
    "scrolled": true
   },
   "outputs": [],
   "source": [
    "a = torch.randint(10, (2, 3, 7, 7)).to(torch.float32)\n",
    "a.shape[0]\n",
    "# for i in a:\n",
    "#     print(i.shape)"
   ]
  },
  {
   "cell_type": "code",
   "execution_count": null,
   "id": "2a5b85a0-e189-4c99-8d16-38228beaea34",
   "metadata": {},
   "outputs": [],
   "source": [
    "conv2d = torch.nn.Conv2d(in_channels, out_channels, kernel_size,\n",
    "                                      stride, padding=0, bias=False)"
   ]
  },
  {
   "cell_type": "code",
   "execution_count": null,
   "id": "59dd36dc-a4c5-4870-ab8c-e85b718b21fe",
   "metadata": {},
   "outputs": [],
   "source": [
    "class Conv2d(ABCConv2d):\n",
    "    def __init__(self, in_channels, out_channels, kernel_size, stride):\n",
    "        self.conv2d = torch.nn.Conv2d(in_channels, out_channels, kernel_size,\n",
    "                                      stride, padding=0, bias=False)\n",
    "\n",
    "    def set_kernel(self, kernel):\n",
    "        self.conv2d.weight.data = kernel\n",
    "\n",
    "    def __call__(self, input_tensor):\n",
    "        return self.conv2d(input_tensor)"
   ]
  },
  {
   "cell_type": "code",
   "execution_count": null,
   "id": "de78e48e-bbbc-4080-96a7-bf0e175cb75e",
   "metadata": {},
   "outputs": [],
   "source": [
    "torch_conv2d = Conv2d(3,4,5,1)\n",
    "torch_conv2d(a).shape\n",
    "torch_conv2d(a).shape"
   ]
  },
  {
   "cell_type": "code",
   "execution_count": null,
   "id": "ad403159-ae2b-406b-b49c-b67d57a807f9",
   "metadata": {},
   "outputs": [],
   "source": [
    "a[0].shape"
   ]
  },
  {
   "cell_type": "code",
   "execution_count": null,
   "id": "9b0c0998-9854-4abc-a45c-84e5ea30d0f0",
   "metadata": {},
   "outputs": [],
   "source": [
    "def calc_out_shape(input_matrix_shape, out_channels, kernel_size, stride, padding):\n",
    "    batch_size, channels_count, input_height, input_width = input_matrix_shape\n",
    "    output_height = (input_height + 2 * padding - (kernel_size - 1) - 1) // stride + 1\n",
    "    output_width = (input_width + 2 * padding - (kernel_size - 1) - 1) // stride + 1\n",
    "\n",
    "    return batch_size, out_channels, output_height, output_width\n",
    "\n",
    "calc_out_shape(a.shape, 4, 5, 1, 0)"
   ]
  },
  {
   "cell_type": "code",
   "execution_count": null,
   "id": "41bdb110-f45d-48a1-b267-ef0400f5dcc0",
   "metadata": {},
   "outputs": [],
   "source": [
    "## Test input "
   ]
  },
  {
   "cell_type": "code",
   "execution_count": null,
   "id": "6ffe3001-047f-46e4-b710-808113ccfb9c",
   "metadata": {
    "scrolled": true
   },
   "outputs": [],
   "source": [
    "kernel = torch.tensor(\n",
    "                  [[[[0., 1, 0],\n",
    "                     [1,  2, 1],\n",
    "                     [0,  1, 0]],\n",
    "\n",
    "                    [[1, 2, 1],\n",
    "                     [0, 3, 3],\n",
    "                     [0, 1, 10]],\n",
    "\n",
    "                    [[10, 11, 12],\n",
    "                     [13, 14, 15],\n",
    "                     [16, 17, 18]]]])\n",
    "\n",
    "in_channels = kernel.shape[1]\n",
    "in_channels"
   ]
  },
  {
   "cell_type": "code",
   "execution_count": null,
   "id": "902df4a4-1e8c-498d-ae32-a0885eb912c7",
   "metadata": {},
   "outputs": [],
   "source": [
    "batch_size=2\n",
    "input_height=4\n",
    "input_width=4\n",
    "stride=2\n",
    "\n",
    "\n",
    "print(batch_size * in_channels * \\\n",
    "                            input_height * input_width)\n",
    "\n",
    "input_tensor = torch.arange(0, batch_size * in_channels *\n",
    "                            input_height * input_width,\n",
    "                            out=torch.FloatTensor()) \\\n",
    "    .reshape(batch_size, in_channels, input_height, input_width)\n",
    "print(input_tensor.shape)\n",
    "input_tensor.shape[-3]"
   ]
  },
  {
   "cell_type": "code",
   "execution_count": null,
   "id": "7496f3b2-438a-46cf-b1e8-f04905e1856c",
   "metadata": {},
   "outputs": [],
   "source": []
  }
 ],
 "metadata": {
  "kernelspec": {
   "display_name": "Python 3 (ipykernel)",
   "language": "python",
   "name": "python3"
  },
  "language_info": {
   "codemirror_mode": {
    "name": "ipython",
    "version": 3
   },
   "file_extension": ".py",
   "mimetype": "text/x-python",
   "name": "python",
   "nbconvert_exporter": "python",
   "pygments_lexer": "ipython3",
   "version": "3.11.3"
  }
 },
 "nbformat": 4,
 "nbformat_minor": 5
}
