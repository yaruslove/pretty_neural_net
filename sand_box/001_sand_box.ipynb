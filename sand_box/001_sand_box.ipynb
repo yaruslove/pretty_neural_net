{
 "cells": [
  {
   "cell_type": "code",
   "execution_count": 2,
   "id": "84e546c7-a4dc-4135-ac72-a5097587a985",
   "metadata": {},
   "outputs": [],
   "source": [
    "import torch"
   ]
  },
  {
   "cell_type": "code",
   "execution_count": null,
   "id": "012bf236-e757-4c7f-a423-f5890169acc6",
   "metadata": {},
   "outputs": [],
   "source": [
    "# Создаем входной массив из двух изображений RGB 3*3\n",
    "input_images = torch.tensor(\n",
    "      [[[[0,  1,  2],\n",
    "         [3,  4,  5],\n",
    "         [6,  7,  8]],\n",
    "\n",
    "        [[9, 10, 11],\n",
    "         [12, 13, 14],\n",
    "         [15, 16, 17]],\n",
    "\n",
    "        [[18, 19, 20],\n",
    "         [21, 22, 23],\n",
    "         [24, 25, 26]]],\n",
    "\n",
    "\n",
    "       [[[27, 28, 29],\n",
    "         [30, 31, 32],\n",
    "         [33, 34, 35]],\n",
    "\n",
    "        [[36, 37, 38],\n",
    "         [39, 40, 41],\n",
    "         [42, 43, 44]],\n",
    "\n",
    "        [[45, 46, 47],\n",
    "         [48, 49, 50],\n",
    "         [51, 52, 53]]]])\n",
    "\n",
    "\n",
    "def get_padding2d(input_images):\n",
    "    #padded_images = # добавить нулей с четырех сторон каждого изображения\n",
    "    ## Top button\n",
    "    t=list(input_images.size())\n",
    "    t[2]=1\n",
    "    newrow=torch.zeros(t)\n",
    "    newrow=newrow.type(torch.long)\n",
    "    input_images=input_images.type(torch.long)\n",
    "    \n",
    "    input_images=torch.cat((newrow, input_images), 2)\n",
    "    input_images=torch.cat((input_images,newrow), 2)\n",
    "    input_images\n",
    "\n",
    "\n",
    "    ## Sides\n",
    "    t=list(input_images.size())\n",
    "    t[-1]=1\n",
    "    newrow=torch.zeros(t)\n",
    "    newrow=newrow.type(torch.long)\n",
    "    input_images=input_images.type(torch.long)\n",
    "    \n",
    "    input_images=torch.cat((newrow, input_images), 3)\n",
    "    input_images=torch.cat((input_images, newrow), 3)\n",
    "    padded_images=input_images\n",
    "    \n",
    "    padded_images=padded_images.type(torch.float)\n",
    "    return padded_images"
   ]
  },
  {
   "cell_type": "code",
   "execution_count": 3,
   "id": "6185412a-1e1e-4646-ae46-756b7c3e7ba1",
   "metadata": {},
   "outputs": [
    {
     "data": {
      "text/plain": [
       "tensor([[[[ 0.,  0.,  0.,  0.,  0.],\n",
       "          [ 0.,  0.,  1.,  2.,  0.],\n",
       "          [ 0.,  3.,  4.,  5.,  0.],\n",
       "          [ 0.,  6.,  7.,  8.,  0.],\n",
       "          [ 0.,  0.,  0.,  0.,  0.]],\n",
       "\n",
       "         [[ 0.,  0.,  0.,  0.,  0.],\n",
       "          [ 0.,  9., 10., 11.,  0.],\n",
       "          [ 0., 12., 13., 14.,  0.],\n",
       "          [ 0., 15., 16., 17.,  0.],\n",
       "          [ 0.,  0.,  0.,  0.,  0.]],\n",
       "\n",
       "         [[ 0.,  0.,  0.,  0.,  0.],\n",
       "          [ 0., 18., 19., 20.,  0.],\n",
       "          [ 0., 21., 22., 23.,  0.],\n",
       "          [ 0., 24., 25., 26.,  0.],\n",
       "          [ 0.,  0.,  0.,  0.,  0.]]],\n",
       "\n",
       "\n",
       "        [[[ 0.,  0.,  0.,  0.,  0.],\n",
       "          [ 0., 27., 28., 29.,  0.],\n",
       "          [ 0., 30., 31., 32.,  0.],\n",
       "          [ 0., 33., 34., 35.,  0.],\n",
       "          [ 0.,  0.,  0.,  0.,  0.]],\n",
       "\n",
       "         [[ 0.,  0.,  0.,  0.,  0.],\n",
       "          [ 0., 36., 37., 38.,  0.],\n",
       "          [ 0., 39., 40., 41.,  0.],\n",
       "          [ 0., 42., 43., 44.,  0.],\n",
       "          [ 0.,  0.,  0.,  0.,  0.]],\n",
       "\n",
       "         [[ 0.,  0.,  0.,  0.,  0.],\n",
       "          [ 0., 45., 46., 47.,  0.],\n",
       "          [ 0., 48., 49., 50.,  0.],\n",
       "          [ 0., 51., 52., 53.,  0.],\n",
       "          [ 0.,  0.,  0.,  0.,  0.]]]])"
      ]
     },
     "execution_count": 3,
     "metadata": {},
     "output_type": "execute_result"
    }
   ],
   "source": [
    "get_padding2d(input_images)"
   ]
  },
  {
   "cell_type": "markdown",
   "id": "6f5a683b-f505-45db-8482-49c76c9acffd",
   "metadata": {},
   "source": [
    "## My Conv2d"
   ]
  },
  {
   "cell_type": "code",
   "execution_count": 45,
   "id": "e9a2fa35-adc8-49f5-8233-82115d543117",
   "metadata": {},
   "outputs": [],
   "source": [
    "import torch\n",
    "from abc import ABC, abstractmethod\n",
    "\n",
    "\n",
    "def calc_out_shape(input_matrix_shape, out_channels, kernel_size, stride, padding):\n",
    "    batch_size, channels_count, input_height, input_width = input_matrix_shape\n",
    "    output_height = (input_height + 2 * padding - (kernel_size - 1) - 1) // stride + 1\n",
    "    output_width = (input_width + 2 * padding - (kernel_size - 1) - 1) // stride + 1\n",
    "\n",
    "    return batch_size, out_channels, output_height, output_width\n",
    "\n",
    "\n",
    "class ABCConv2d(ABC):\n",
    "    def __init__(self, in_channels, out_channels, kernel_size, stride):\n",
    "        self.in_channels = in_channels\n",
    "        self.out_channels = out_channels\n",
    "        self.kernel_size = kernel_size\n",
    "        self.stride = stride\n",
    "\n",
    "    def set_kernel(self, kernel):\n",
    "        self.kernel = kernel\n",
    "\n",
    "    @abstractmethod\n",
    "    def __call__(self, input_tensor):\n",
    "        pass\n"
   ]
  },
  {
   "cell_type": "code",
   "execution_count": 51,
   "id": "ac9a4a55-6558-4558-9901-e47180beadaa",
   "metadata": {},
   "outputs": [],
   "source": [
    "# Сверточный слой через циклы.\n",
    "class Conv2dLoop(ABCConv2d):\n",
    "    def __call__(self, input_tensor):\n",
    "        # output_tensor = # Напишите в этом месте вычисление свертки с использованием циклов.\n",
    "\n",
    "        # проверка является ли вход батчем ( dimension = 4 => batch, dimension = 3 => one_image)\n",
    "        # if len(input_tensor.shape) = 4:\n",
    "            # for i in input_tensor.shape[0]:\n",
    "        return output_tensor"
   ]
  },
  {
   "cell_type": "code",
   "execution_count": 52,
   "id": "27f6e92b-a66a-4359-81a5-89941bf3356e",
   "metadata": {},
   "outputs": [
    {
     "name": "stdout",
     "output_type": "stream",
     "text": [
      " out_channels 1 \n",
      " in_channels  3  \n",
      " kernel_size  3  \n",
      " \n"
     ]
    }
   ],
   "source": [
    "kernel = torch.tensor(\n",
    "                  [[[[0., 1, 0],\n",
    "                     [1,  2, 1],\n",
    "                     [0,  1, 0]],\n",
    "\n",
    "                    [[1, 2, 1],\n",
    "                     [0, 3, 3],\n",
    "                     [0, 1, 10]],\n",
    "\n",
    "                    [[10, 11, 12],\n",
    "                     [13, 14, 15],\n",
    "                     [16, 17, 18]]]])\n",
    "\n",
    "out_channels = kernel.shape[0]\n",
    "in_channels  = kernel.shape[1]\n",
    "kernel_size  = kernel.shape[2]\n",
    "stride=2\n",
    "\n",
    "print(f\" \\\n",
    "out_channels {out_channels} \\n \\\n",
    "in_channels  {in_channels}  \\n \\\n",
    "kernel_size  {kernel_size}  \\n \\\n",
    "\"\n",
    ")"
   ]
  },
  {
   "cell_type": "code",
   "execution_count": 58,
   "id": "6d9bb45f-3414-4a9e-bd0e-55f3e3674fc8",
   "metadata": {},
   "outputs": [],
   "source": [
    "my_conv2d = Conv2dLoop(in_channels, out_channels, kernel_size, stride)\n",
    "my_conv2d.set_kernel(kernel)"
   ]
  },
  {
   "cell_type": "code",
   "execution_count": 56,
   "id": "0513edec-0a13-4cd1-a332-098735eda7a6",
   "metadata": {},
   "outputs": [
    {
     "data": {
      "text/plain": [
       "2"
      ]
     },
     "execution_count": 56,
     "metadata": {},
     "output_type": "execute_result"
    }
   ],
   "source": [
    "input_tensor.shape[0]"
   ]
  },
  {
   "cell_type": "code",
   "execution_count": 37,
   "id": "ad76a8c1-45a8-4249-b30c-b4ecd9f7dff9",
   "metadata": {},
   "outputs": [
    {
     "data": {
      "text/plain": [
       "4"
      ]
     },
     "execution_count": 37,
     "metadata": {},
     "output_type": "execute_result"
    }
   ],
   "source": [
    "len(input_tensor.shape)"
   ]
  },
  {
   "cell_type": "code",
   "execution_count": null,
   "id": "83c8b79a-418d-4862-8aaa-028d88e319dc",
   "metadata": {},
   "outputs": [],
   "source": [
    "## Torch conv2d"
   ]
  },
  {
   "cell_type": "code",
   "execution_count": 33,
   "id": "712f94ee-5737-461a-be9c-cc09091a8be1",
   "metadata": {
    "scrolled": true
   },
   "outputs": [
    {
     "data": {
      "text/plain": [
       "tensor([[[[0., 1., 8., 3., 0., 6., 0.],\n",
       "          [5., 4., 8., 6., 8., 2., 0.],\n",
       "          [8., 6., 3., 4., 7., 0., 5.],\n",
       "          [0., 5., 2., 4., 0., 6., 0.],\n",
       "          [1., 8., 1., 7., 6., 5., 8.],\n",
       "          [8., 6., 2., 0., 1., 1., 8.],\n",
       "          [6., 7., 4., 0., 6., 8., 0.]],\n",
       "\n",
       "         [[9., 5., 8., 7., 4., 0., 1.],\n",
       "          [4., 8., 2., 6., 2., 3., 5.],\n",
       "          [3., 9., 6., 4., 8., 6., 7.],\n",
       "          [5., 3., 8., 4., 8., 6., 6.],\n",
       "          [1., 5., 3., 2., 9., 9., 3.],\n",
       "          [1., 4., 6., 3., 1., 5., 6.],\n",
       "          [9., 6., 7., 3., 4., 2., 3.]],\n",
       "\n",
       "         [[7., 4., 9., 6., 7., 9., 5.],\n",
       "          [9., 1., 2., 8., 9., 3., 4.],\n",
       "          [2., 2., 4., 7., 9., 2., 7.],\n",
       "          [0., 9., 1., 4., 0., 2., 6.],\n",
       "          [7., 1., 9., 5., 4., 2., 9.],\n",
       "          [5., 5., 4., 0., 2., 3., 6.],\n",
       "          [2., 1., 1., 4., 6., 8., 7.]]]])"
      ]
     },
     "execution_count": 33,
     "metadata": {},
     "output_type": "execute_result"
    }
   ],
   "source": [
    "a = torch.randint(10, (1, 3, 7, 7)).to(torch.float32)\n",
    "a"
   ]
  },
  {
   "cell_type": "code",
   "execution_count": 34,
   "id": "59dd36dc-a4c5-4870-ab8c-e85b718b21fe",
   "metadata": {},
   "outputs": [],
   "source": [
    "class Conv2d(ABCConv2d):\n",
    "    def __init__(self, in_channels, out_channels, kernel_size, stride):\n",
    "        self.conv2d = torch.nn.Conv2d(in_channels, out_channels, kernel_size,\n",
    "                                      stride, padding=0, bias=False)\n",
    "\n",
    "    def set_kernel(self, kernel):\n",
    "        self.conv2d.weight.data = kernel\n",
    "\n",
    "    def __call__(self, input_tensor):\n",
    "        return self.conv2d(input_tensor)"
   ]
  },
  {
   "cell_type": "code",
   "execution_count": 35,
   "id": "de78e48e-bbbc-4080-96a7-bf0e175cb75e",
   "metadata": {
    "scrolled": true
   },
   "outputs": [
    {
     "data": {
      "text/plain": [
       "torch.Size([1, 4, 5, 5])"
      ]
     },
     "execution_count": 35,
     "metadata": {},
     "output_type": "execute_result"
    }
   ],
   "source": [
    "torch_conv2d = Conv2d(3,4,3,1)\n",
    "torch_conv2d(a).shape"
   ]
  },
  {
   "cell_type": "code",
   "execution_count": null,
   "id": "41bdb110-f45d-48a1-b267-ef0400f5dcc0",
   "metadata": {},
   "outputs": [],
   "source": [
    "## Test input "
   ]
  },
  {
   "cell_type": "code",
   "execution_count": 22,
   "id": "6ffe3001-047f-46e4-b710-808113ccfb9c",
   "metadata": {
    "scrolled": true
   },
   "outputs": [
    {
     "data": {
      "text/plain": [
       "3"
      ]
     },
     "execution_count": 22,
     "metadata": {},
     "output_type": "execute_result"
    }
   ],
   "source": [
    "kernel = torch.tensor(\n",
    "                  [[[[0., 1, 0],\n",
    "                     [1,  2, 1],\n",
    "                     [0,  1, 0]],\n",
    "\n",
    "                    [[1, 2, 1],\n",
    "                     [0, 3, 3],\n",
    "                     [0, 1, 10]],\n",
    "\n",
    "                    [[10, 11, 12],\n",
    "                     [13, 14, 15],\n",
    "                     [16, 17, 18]]]])\n",
    "\n",
    "in_channels = kernel.shape[1]\n",
    "in_channels"
   ]
  },
  {
   "cell_type": "code",
   "execution_count": 24,
   "id": "0ac4b2a5-603e-4845-8eea-370988d55d7e",
   "metadata": {},
   "outputs": [
    {
     "data": {
      "text/plain": [
       "(2,)"
      ]
     },
     "execution_count": 24,
     "metadata": {},
     "output_type": "execute_result"
    }
   ],
   "source": [
    "batch_size"
   ]
  },
  {
   "cell_type": "code",
   "execution_count": 25,
   "id": "01486914-ea5d-4926-af27-9dac8021dba2",
   "metadata": {},
   "outputs": [],
   "source": [
    "batch_size=2\n"
   ]
  },
  {
   "cell_type": "code",
   "execution_count": 29,
   "id": "902df4a4-1e8c-498d-ae32-a0885eb912c7",
   "metadata": {},
   "outputs": [
    {
     "name": "stdout",
     "output_type": "stream",
     "text": [
      "96\n",
      "torch.Size([2, 3, 4, 4])\n"
     ]
    },
    {
     "data": {
      "text/plain": [
       "tensor([[[[ 0.,  1.,  2.,  3.],\n",
       "          [ 4.,  5.,  6.,  7.],\n",
       "          [ 8.,  9., 10., 11.],\n",
       "          [12., 13., 14., 15.]],\n",
       "\n",
       "         [[16., 17., 18., 19.],\n",
       "          [20., 21., 22., 23.],\n",
       "          [24., 25., 26., 27.],\n",
       "          [28., 29., 30., 31.]],\n",
       "\n",
       "         [[32., 33., 34., 35.],\n",
       "          [36., 37., 38., 39.],\n",
       "          [40., 41., 42., 43.],\n",
       "          [44., 45., 46., 47.]]],\n",
       "\n",
       "\n",
       "        [[[48., 49., 50., 51.],\n",
       "          [52., 53., 54., 55.],\n",
       "          [56., 57., 58., 59.],\n",
       "          [60., 61., 62., 63.]],\n",
       "\n",
       "         [[64., 65., 66., 67.],\n",
       "          [68., 69., 70., 71.],\n",
       "          [72., 73., 74., 75.],\n",
       "          [76., 77., 78., 79.]],\n",
       "\n",
       "         [[80., 81., 82., 83.],\n",
       "          [84., 85., 86., 87.],\n",
       "          [88., 89., 90., 91.],\n",
       "          [92., 93., 94., 95.]]]])"
      ]
     },
     "execution_count": 29,
     "metadata": {},
     "output_type": "execute_result"
    }
   ],
   "source": [
    "batch_size=2\n",
    "input_height=4\n",
    "input_width=4\n",
    "stride=2\n",
    "\n",
    "print(batch_size * in_channels * \\\n",
    "                            input_height * input_width)\n",
    "\n",
    "input_tensor = torch.arange(0, batch_size * in_channels *\n",
    "                            input_height * input_width,\n",
    "                            out=torch.FloatTensor()) \\\n",
    "    .reshape(batch_size, in_channels, input_height, input_width)\n",
    "print(input_tensor.shape)\n",
    "input_tensor"
   ]
  },
  {
   "cell_type": "code",
   "execution_count": null,
   "id": "7496f3b2-438a-46cf-b1e8-f04905e1856c",
   "metadata": {},
   "outputs": [],
   "source": []
  }
 ],
 "metadata": {
  "kernelspec": {
   "display_name": "Python 3 (ipykernel)",
   "language": "python",
   "name": "python3"
  },
  "language_info": {
   "codemirror_mode": {
    "name": "ipython",
    "version": 3
   },
   "file_extension": ".py",
   "mimetype": "text/x-python",
   "name": "python",
   "nbconvert_exporter": "python",
   "pygments_lexer": "ipython3",
   "version": "3.10.6"
  }
 },
 "nbformat": 4,
 "nbformat_minor": 5
}
